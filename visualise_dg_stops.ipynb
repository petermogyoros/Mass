{
 "cells": [
  {
   "cell_type": "code",
   "execution_count": 87,
   "metadata": {
    "collapsed": true
   },
   "outputs": [],
   "source": [
    "#!/usr/bin/python3\n",
    "\n",
    "from login_details import engine1\n",
    "from pandas import DataFrame"
   ]
  },
  {
   "cell_type": "code",
   "execution_count": 88,
   "outputs": [],
   "source": [
    "# get data from stoppage_id db\n",
    "with engine1.connect() as con:\n",
    "    stoppage_hist_query = con.execute(\"\"\"\n",
    "    SELECT id, stoppage_id, datetime\n",
    "    FROM dg_ln_stoppages_raw_1\n",
    "    ORDER BY datetime ASC\n",
    "    LIMIT 7000\n",
    "    \"\"\")\n",
    "    con.close()"
   ],
   "metadata": {
    "collapsed": false,
    "pycharm": {
     "name": "#%%\n"
    }
   }
  },
  {
   "cell_type": "code",
   "execution_count": 89,
   "outputs": [],
   "source": [
    "# get data from stoppage_string db\n",
    "with engine1.connect() as conn:\n",
    "    stoppage_str_query = conn.execute(\"\"\"\n",
    "    SELECT fault_id, fault_str\n",
    "    FROM dg_stoppage_strings\n",
    "    ORDER BY fault_id ASC\n",
    "    \"\"\")\n",
    "    con.close()"
   ],
   "metadata": {
    "collapsed": false,
    "pycharm": {
     "name": "#%%\n"
    }
   }
  },
  {
   "cell_type": "code",
   "execution_count": 90,
   "outputs": [],
   "source": [
    "# convert database instances to DataFrame\n",
    "\n",
    "# converting stoppage string instance\n",
    "stoppage_str_df = DataFrame(stoppage_str_query.fetchall())\n",
    "stoppage_str_df.columns = stoppage_str_query.keys()\n",
    "stoppage_str_df.set_index('fault_id')\n",
    "\n",
    "# converting stoppage history instance\n",
    "stoppage_history_df = DataFrame(stoppage_hist_query.fetchall())\n",
    "stoppage_history_df.columns = stoppage_hist_query.keys()\n"
   ],
   "metadata": {
    "collapsed": false,
    "pycharm": {
     "name": "#%%\n"
    }
   }
  },
  {
   "cell_type": "code",
   "execution_count": 91,
   "outputs": [
    {
     "name": "stdout",
     "output_type": "stream",
     "text": [
      "   stoppage_id                  datetime\n",
      "0            0 2021-10-19 06:49:43+00:00\n",
      "1           64 2021-10-19 06:55:17+00:00\n",
      "2           49 2021-10-19 06:55:19+00:00\n",
      "3            1 2021-10-19 06:55:51+00:00\n",
      "4           59 2021-10-19 06:55:53+00:00\n",
      "5            0 2021-10-19 06:55:57+00:00\n"
     ]
    }
   ],
   "source": [
    "\n",
    "print(stoppage_history_df.loc[:5, ['stoppage_id','datetime']])"
   ],
   "metadata": {
    "collapsed": false,
    "pycharm": {
     "name": "#%%\n"
    }
   }
  },
  {
   "cell_type": "code",
   "execution_count": 94,
   "outputs": [
    {
     "name": "stdout",
     "output_type": "stream",
     "text": [
      "                                            fault_str  fault_id\n",
      "0                                     Running \\ Ready         0\n",
      "1                                      Emergency Stop         1\n",
      "2                                    Low Air Pressure         2\n",
      "3             Side B Feeder Inner Ring Inverter Fault         3\n",
      "4             Side B Feeder Outer Ring Inverter Fault         4\n",
      "5             Side A Feeder Inner Ring Inverter Fault         5\n",
      "6             Side A Feeder Outer Ring Inverter Fault         6\n",
      "7              Side B Inspection Table Inverter Fault         7\n",
      "8              Side A Inspection Table Inverter Fault         8\n",
      "9                         Box Conveyor Inverter Fault         9\n",
      "10                          Side A Comp Jam In Feeder        10\n",
      "11                          Side B Comp Jam In Feeder        11\n",
      "12                        Side A Comp Jam On Conveyor        12\n",
      "13                        Side B Comp Jam On Conveyor        13\n",
      "14         Box Conveyor Chute Cylinder Not Open (X29)        20\n",
      "15       Box Conveyor Chute Cylinder Not Closed (X2A)        21\n",
      "16       Box Conveyor Chute Cylinder Still Open (X29)        22\n",
      "17     Box Conveyor Chute Cylinder Still Closed (X2A)        23\n",
      "18                                   PC 1 Not On-Line        24\n",
      "19                                   PC 2 Not On-Line        25\n",
      "20                                   PC 3 Not On-Line        26\n",
      "21                                   PC 4 Not On-Line        27\n",
      "22             Side A Top Camera - No Result Received        34\n",
      "23            Side A Side Camera - No Result Received        35\n",
      "24          Side A Bottom Camera - No Result Received        36\n",
      "25             Side B Top Camera - No Result Received        37\n",
      "26            Side B Side Camera - No Result Received        38\n",
      "27          Side B Bottom Camera - No Result Received        39\n",
      "28                    Box Not Present On The Conveyor        40\n",
      "29                                  Box Conveyor Full        41\n",
      "30                      Side A Reject Box Almost Full        42\n",
      "31            Side A Reject Box Full - Side A Stopped        43\n",
      "32                      Side B Reject Box Almost Full        44\n",
      "33            Side B Reject Box Full - Side B Stopped        45\n",
      "34                         Side B OCR Box Almost Full        46\n",
      "35               Side B OCR Box Full - Side B Stopped        47\n",
      "36           Box Conveyor Sequence Watchdog Timer Exp        48\n",
      "37  Component Not Seen In Side B Reject Chute - M/...        49\n",
      "38  Component Not Seen In Side A Reject Chute - M/...        50\n",
      "39              Side B QD62E PLC Encoder Module Fault        51\n",
      "40              Side A QD62E PLC Encoder Module Fault        52\n",
      "41                Warning! Side B Top Camera Disabled        53\n",
      "42               Warning! Side B Side Camera Disabled        54\n",
      "43             Warning! Side B Bottom Camera Disabled        55\n",
      "44                Warning! Side A Top Camera Disabled        56\n",
      "45               Warning! Side A Side Camera Disabled        57\n",
      "46             Warning! Side A Bottom Camera Disabled        58\n",
      "47                                    Front Door Open        59\n",
      "48                            Side B Double Door Open        60\n",
      "49                            Side B Single Door Open        61\n",
      "50                              Side B Rear Door Open        62\n",
      "51                              Side A Rear Door Open        63\n",
      "52                                        Open Gueard        64\n",
      "53                   Side B Conveyor 1 Inverter Fault        65\n",
      "54                   Side B Conveyor 2 Inverter Fault        66\n",
      "55                   Side A Conveyor 1 Inverter Fault        67\n",
      "56                   Side A Conveyor 2 Inverter Fault        68\n",
      "57                            Side A Single Door Open        69\n",
      "58                            Side A Double Door Open        70\n"
     ]
    }
   ],
   "source": [
    "print(stoppage_str_df.loc[: , ['fault_str', 'fault_id']])"
   ],
   "metadata": {
    "collapsed": false,
    "pycharm": {
     "name": "#%%\n"
    }
   }
  },
  {
   "cell_type": "code",
   "execution_count": 93,
   "outputs": [
    {
     "ename": "KeyError",
     "evalue": "'stoppage_id'",
     "output_type": "error",
     "traceback": [
      "\u001B[0;31m---------------------------------------------------------------------------\u001B[0m",
      "\u001B[0;31mKeyError\u001B[0m                                  Traceback (most recent call last)",
      "\u001B[0;32m~/.conda/envs/Massmould/lib/python3.9/site-packages/pandas/core/indexes/base.py\u001B[0m in \u001B[0;36mget_loc\u001B[0;34m(self, key, method, tolerance)\u001B[0m\n\u001B[1;32m   3360\u001B[0m             \u001B[0;32mtry\u001B[0m\u001B[0;34m:\u001B[0m\u001B[0;34m\u001B[0m\u001B[0;34m\u001B[0m\u001B[0m\n\u001B[0;32m-> 3361\u001B[0;31m                 \u001B[0;32mreturn\u001B[0m \u001B[0mself\u001B[0m\u001B[0;34m.\u001B[0m\u001B[0m_engine\u001B[0m\u001B[0;34m.\u001B[0m\u001B[0mget_loc\u001B[0m\u001B[0;34m(\u001B[0m\u001B[0mcasted_key\u001B[0m\u001B[0;34m)\u001B[0m\u001B[0;34m\u001B[0m\u001B[0;34m\u001B[0m\u001B[0m\n\u001B[0m\u001B[1;32m   3362\u001B[0m             \u001B[0;32mexcept\u001B[0m \u001B[0mKeyError\u001B[0m \u001B[0;32mas\u001B[0m \u001B[0merr\u001B[0m\u001B[0;34m:\u001B[0m\u001B[0;34m\u001B[0m\u001B[0;34m\u001B[0m\u001B[0m\n",
      "\u001B[0;32m~/.conda/envs/Massmould/lib/python3.9/site-packages/pandas/_libs/index.pyx\u001B[0m in \u001B[0;36mpandas._libs.index.IndexEngine.get_loc\u001B[0;34m()\u001B[0m\n",
      "\u001B[0;32m~/.conda/envs/Massmould/lib/python3.9/site-packages/pandas/_libs/index.pyx\u001B[0m in \u001B[0;36mpandas._libs.index.IndexEngine.get_loc\u001B[0;34m()\u001B[0m\n",
      "\u001B[0;32mpandas/_libs/hashtable_class_helper.pxi\u001B[0m in \u001B[0;36mpandas._libs.hashtable.PyObjectHashTable.get_item\u001B[0;34m()\u001B[0m\n",
      "\u001B[0;32mpandas/_libs/hashtable_class_helper.pxi\u001B[0m in \u001B[0;36mpandas._libs.hashtable.PyObjectHashTable.get_item\u001B[0;34m()\u001B[0m\n",
      "\u001B[0;31mKeyError\u001B[0m: 'stoppage_id'",
      "\nThe above exception was the direct cause of the following exception:\n",
      "\u001B[0;31mKeyError\u001B[0m                                  Traceback (most recent call last)",
      "\u001B[0;32m/var/folders/b2/dbkrfbnj6hx616rlhhydp_940000gn/T/ipykernel_63428/1389189378.py\u001B[0m in \u001B[0;36m<module>\u001B[0;34m\u001B[0m\n\u001B[1;32m      1\u001B[0m \u001B[0;31m#1 melt function converts wide dataframes (high number of columns) to narrow ones. Some dataframes are structured in a way that consecutive measurements or variables are represented as columns. In some cases, representing these columns as rows may fit better with our task.\u001B[0m\u001B[0;34m\u001B[0m\u001B[0;34m\u001B[0m\u001B[0m\n\u001B[1;32m      2\u001B[0m \u001B[0;34m\u001B[0m\u001B[0m\n\u001B[0;32m----> 3\u001B[0;31m \u001B[0mdf_melted\u001B[0m \u001B[0;34m=\u001B[0m \u001B[0mpd\u001B[0m\u001B[0;34m.\u001B[0m\u001B[0mmelt\u001B[0m\u001B[0;34m(\u001B[0m\u001B[0mdf\u001B[0m\u001B[0;34m,\u001B[0m \u001B[0mid_vars\u001B[0m\u001B[0;34m=\u001B[0m\u001B[0;34m'stoppage_id'\u001B[0m\u001B[0;34m)\u001B[0m\u001B[0;34m\u001B[0m\u001B[0;34m\u001B[0m\u001B[0m\n\u001B[0m\u001B[1;32m      4\u001B[0m \u001B[0mdf_melted\u001B[0m\u001B[0;34m.\u001B[0m\u001B[0mhead\u001B[0m\u001B[0;34m(\u001B[0m\u001B[0;34m)\u001B[0m\u001B[0;34m\u001B[0m\u001B[0;34m\u001B[0m\u001B[0m\n",
      "\u001B[0;32m~/.conda/envs/Massmould/lib/python3.9/site-packages/pandas/core/reshape/melt.py\u001B[0m in \u001B[0;36mmelt\u001B[0;34m(frame, id_vars, value_vars, var_name, value_name, col_level, ignore_index)\u001B[0m\n\u001B[1;32m    135\u001B[0m     \u001B[0mmdata\u001B[0m \u001B[0;34m=\u001B[0m \u001B[0;34m{\u001B[0m\u001B[0;34m}\u001B[0m\u001B[0;34m\u001B[0m\u001B[0;34m\u001B[0m\u001B[0m\n\u001B[1;32m    136\u001B[0m     \u001B[0;32mfor\u001B[0m \u001B[0mcol\u001B[0m \u001B[0;32min\u001B[0m \u001B[0mid_vars\u001B[0m\u001B[0;34m:\u001B[0m\u001B[0;34m\u001B[0m\u001B[0;34m\u001B[0m\u001B[0m\n\u001B[0;32m--> 137\u001B[0;31m         \u001B[0mid_data\u001B[0m \u001B[0;34m=\u001B[0m \u001B[0mframe\u001B[0m\u001B[0;34m.\u001B[0m\u001B[0mpop\u001B[0m\u001B[0;34m(\u001B[0m\u001B[0mcol\u001B[0m\u001B[0;34m)\u001B[0m\u001B[0;34m\u001B[0m\u001B[0;34m\u001B[0m\u001B[0m\n\u001B[0m\u001B[1;32m    138\u001B[0m         \u001B[0;32mif\u001B[0m \u001B[0mis_extension_array_dtype\u001B[0m\u001B[0;34m(\u001B[0m\u001B[0mid_data\u001B[0m\u001B[0;34m)\u001B[0m\u001B[0;34m:\u001B[0m\u001B[0;34m\u001B[0m\u001B[0;34m\u001B[0m\u001B[0m\n\u001B[1;32m    139\u001B[0m             \u001B[0mid_data\u001B[0m \u001B[0;34m=\u001B[0m \u001B[0mcast\u001B[0m\u001B[0;34m(\u001B[0m\u001B[0;34m\"Series\"\u001B[0m\u001B[0;34m,\u001B[0m \u001B[0mconcat\u001B[0m\u001B[0;34m(\u001B[0m\u001B[0;34m[\u001B[0m\u001B[0mid_data\u001B[0m\u001B[0;34m]\u001B[0m \u001B[0;34m*\u001B[0m \u001B[0mK\u001B[0m\u001B[0;34m,\u001B[0m \u001B[0mignore_index\u001B[0m\u001B[0;34m=\u001B[0m\u001B[0;32mTrue\u001B[0m\u001B[0;34m)\u001B[0m\u001B[0;34m)\u001B[0m\u001B[0;34m\u001B[0m\u001B[0;34m\u001B[0m\u001B[0m\n",
      "\u001B[0;32m~/.conda/envs/Massmould/lib/python3.9/site-packages/pandas/core/frame.py\u001B[0m in \u001B[0;36mpop\u001B[0;34m(self, item)\u001B[0m\n\u001B[1;32m   5224\u001B[0m         \u001B[0;36m3\u001B[0m  \u001B[0mmonkey\u001B[0m        \u001B[0mNaN\u001B[0m\u001B[0;34m\u001B[0m\u001B[0;34m\u001B[0m\u001B[0m\n\u001B[1;32m   5225\u001B[0m         \"\"\"\n\u001B[0;32m-> 5226\u001B[0;31m         \u001B[0;32mreturn\u001B[0m \u001B[0msuper\u001B[0m\u001B[0;34m(\u001B[0m\u001B[0;34m)\u001B[0m\u001B[0;34m.\u001B[0m\u001B[0mpop\u001B[0m\u001B[0;34m(\u001B[0m\u001B[0mitem\u001B[0m\u001B[0;34m=\u001B[0m\u001B[0mitem\u001B[0m\u001B[0;34m)\u001B[0m\u001B[0;34m\u001B[0m\u001B[0;34m\u001B[0m\u001B[0m\n\u001B[0m\u001B[1;32m   5227\u001B[0m \u001B[0;34m\u001B[0m\u001B[0m\n\u001B[1;32m   5228\u001B[0m     \u001B[0;34m@\u001B[0m\u001B[0mdoc\u001B[0m\u001B[0;34m(\u001B[0m\u001B[0mNDFrame\u001B[0m\u001B[0;34m.\u001B[0m\u001B[0mreplace\u001B[0m\u001B[0;34m,\u001B[0m \u001B[0;34m**\u001B[0m\u001B[0m_shared_doc_kwargs\u001B[0m\u001B[0;34m)\u001B[0m\u001B[0;34m\u001B[0m\u001B[0;34m\u001B[0m\u001B[0m\n",
      "\u001B[0;32m~/.conda/envs/Massmould/lib/python3.9/site-packages/pandas/core/generic.py\u001B[0m in \u001B[0;36mpop\u001B[0;34m(self, item)\u001B[0m\n\u001B[1;32m    868\u001B[0m \u001B[0;34m\u001B[0m\u001B[0m\n\u001B[1;32m    869\u001B[0m     \u001B[0;32mdef\u001B[0m \u001B[0mpop\u001B[0m\u001B[0;34m(\u001B[0m\u001B[0mself\u001B[0m\u001B[0;34m,\u001B[0m \u001B[0mitem\u001B[0m\u001B[0;34m:\u001B[0m \u001B[0mHashable\u001B[0m\u001B[0;34m)\u001B[0m \u001B[0;34m->\u001B[0m \u001B[0mSeries\u001B[0m \u001B[0;34m|\u001B[0m \u001B[0mAny\u001B[0m\u001B[0;34m:\u001B[0m\u001B[0;34m\u001B[0m\u001B[0;34m\u001B[0m\u001B[0m\n\u001B[0;32m--> 870\u001B[0;31m         \u001B[0mresult\u001B[0m \u001B[0;34m=\u001B[0m \u001B[0mself\u001B[0m\u001B[0;34m[\u001B[0m\u001B[0mitem\u001B[0m\u001B[0;34m]\u001B[0m\u001B[0;34m\u001B[0m\u001B[0;34m\u001B[0m\u001B[0m\n\u001B[0m\u001B[1;32m    871\u001B[0m         \u001B[0;32mdel\u001B[0m \u001B[0mself\u001B[0m\u001B[0;34m[\u001B[0m\u001B[0mitem\u001B[0m\u001B[0;34m]\u001B[0m\u001B[0;34m\u001B[0m\u001B[0;34m\u001B[0m\u001B[0m\n\u001B[1;32m    872\u001B[0m \u001B[0;34m\u001B[0m\u001B[0m\n",
      "\u001B[0;32m~/.conda/envs/Massmould/lib/python3.9/site-packages/pandas/core/frame.py\u001B[0m in \u001B[0;36m__getitem__\u001B[0;34m(self, key)\u001B[0m\n\u001B[1;32m   3456\u001B[0m             \u001B[0;32mif\u001B[0m \u001B[0mself\u001B[0m\u001B[0;34m.\u001B[0m\u001B[0mcolumns\u001B[0m\u001B[0;34m.\u001B[0m\u001B[0mnlevels\u001B[0m \u001B[0;34m>\u001B[0m \u001B[0;36m1\u001B[0m\u001B[0;34m:\u001B[0m\u001B[0;34m\u001B[0m\u001B[0;34m\u001B[0m\u001B[0m\n\u001B[1;32m   3457\u001B[0m                 \u001B[0;32mreturn\u001B[0m \u001B[0mself\u001B[0m\u001B[0;34m.\u001B[0m\u001B[0m_getitem_multilevel\u001B[0m\u001B[0;34m(\u001B[0m\u001B[0mkey\u001B[0m\u001B[0;34m)\u001B[0m\u001B[0;34m\u001B[0m\u001B[0;34m\u001B[0m\u001B[0m\n\u001B[0;32m-> 3458\u001B[0;31m             \u001B[0mindexer\u001B[0m \u001B[0;34m=\u001B[0m \u001B[0mself\u001B[0m\u001B[0;34m.\u001B[0m\u001B[0mcolumns\u001B[0m\u001B[0;34m.\u001B[0m\u001B[0mget_loc\u001B[0m\u001B[0;34m(\u001B[0m\u001B[0mkey\u001B[0m\u001B[0;34m)\u001B[0m\u001B[0;34m\u001B[0m\u001B[0;34m\u001B[0m\u001B[0m\n\u001B[0m\u001B[1;32m   3459\u001B[0m             \u001B[0;32mif\u001B[0m \u001B[0mis_integer\u001B[0m\u001B[0;34m(\u001B[0m\u001B[0mindexer\u001B[0m\u001B[0;34m)\u001B[0m\u001B[0;34m:\u001B[0m\u001B[0;34m\u001B[0m\u001B[0;34m\u001B[0m\u001B[0m\n\u001B[1;32m   3460\u001B[0m                 \u001B[0mindexer\u001B[0m \u001B[0;34m=\u001B[0m \u001B[0;34m[\u001B[0m\u001B[0mindexer\u001B[0m\u001B[0;34m]\u001B[0m\u001B[0;34m\u001B[0m\u001B[0;34m\u001B[0m\u001B[0m\n",
      "\u001B[0;32m~/.conda/envs/Massmould/lib/python3.9/site-packages/pandas/core/indexes/base.py\u001B[0m in \u001B[0;36mget_loc\u001B[0;34m(self, key, method, tolerance)\u001B[0m\n\u001B[1;32m   3361\u001B[0m                 \u001B[0;32mreturn\u001B[0m \u001B[0mself\u001B[0m\u001B[0;34m.\u001B[0m\u001B[0m_engine\u001B[0m\u001B[0;34m.\u001B[0m\u001B[0mget_loc\u001B[0m\u001B[0;34m(\u001B[0m\u001B[0mcasted_key\u001B[0m\u001B[0;34m)\u001B[0m\u001B[0;34m\u001B[0m\u001B[0;34m\u001B[0m\u001B[0m\n\u001B[1;32m   3362\u001B[0m             \u001B[0;32mexcept\u001B[0m \u001B[0mKeyError\u001B[0m \u001B[0;32mas\u001B[0m \u001B[0merr\u001B[0m\u001B[0;34m:\u001B[0m\u001B[0;34m\u001B[0m\u001B[0;34m\u001B[0m\u001B[0m\n\u001B[0;32m-> 3363\u001B[0;31m                 \u001B[0;32mraise\u001B[0m \u001B[0mKeyError\u001B[0m\u001B[0;34m(\u001B[0m\u001B[0mkey\u001B[0m\u001B[0;34m)\u001B[0m \u001B[0;32mfrom\u001B[0m \u001B[0merr\u001B[0m\u001B[0;34m\u001B[0m\u001B[0;34m\u001B[0m\u001B[0m\n\u001B[0m\u001B[1;32m   3364\u001B[0m \u001B[0;34m\u001B[0m\u001B[0m\n\u001B[1;32m   3365\u001B[0m         \u001B[0;32mif\u001B[0m \u001B[0mis_scalar\u001B[0m\u001B[0;34m(\u001B[0m\u001B[0mkey\u001B[0m\u001B[0;34m)\u001B[0m \u001B[0;32mand\u001B[0m \u001B[0misna\u001B[0m\u001B[0;34m(\u001B[0m\u001B[0mkey\u001B[0m\u001B[0;34m)\u001B[0m \u001B[0;32mand\u001B[0m \u001B[0;32mnot\u001B[0m \u001B[0mself\u001B[0m\u001B[0;34m.\u001B[0m\u001B[0mhasnans\u001B[0m\u001B[0;34m:\u001B[0m\u001B[0;34m\u001B[0m\u001B[0;34m\u001B[0m\u001B[0m\n",
      "\u001B[0;31mKeyError\u001B[0m: 'stoppage_id'"
     ]
    }
   ],
   "source": [
    "#1 melt function converts wide dataframes (high number of columns) to narrow ones. Some dataframes are structured in a way that consecutive measurements or variables are represented as columns. In some cases, representing these columns as rows may fit better with our task.\n",
    "\n",
    "df_melted = pd.melt(df, id_vars='stoppage_id')\n",
    "df_melted.head()"
   ],
   "metadata": {
    "collapsed": false,
    "pycharm": {
     "name": "#%%\n"
    }
   }
  },
  {
   "cell_type": "code",
   "execution_count": null,
   "outputs": [],
   "source": [],
   "metadata": {
    "collapsed": false,
    "pycharm": {
     "name": "#%%\n"
    }
   }
  }
 ],
 "metadata": {
  "kernelspec": {
   "display_name": "Python 3",
   "language": "python",
   "name": "python3"
  },
  "language_info": {
   "codemirror_mode": {
    "name": "ipython",
    "version": 2
   },
   "file_extension": ".py",
   "mimetype": "text/x-python",
   "name": "python",
   "nbconvert_exporter": "python",
   "pygments_lexer": "ipython2",
   "version": "2.7.6"
  }
 },
 "nbformat": 4,
 "nbformat_minor": 0
}