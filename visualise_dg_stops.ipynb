{
 "cells": [
  {
   "cell_type": "code",
   "execution_count": 81,
   "metadata": {
    "collapsed": true
   },
   "outputs": [],
   "source": [
    "#!/usr/bin/python3\n",
    "\n",
    "from login_details import engine1\n",
    "from pandas import DataFrame\n",
    "import pandas as pd"
   ]
  },
  {
   "cell_type": "code",
   "execution_count": 82,
   "outputs": [],
   "source": [
    "# get data from stoppage_id db\n",
    "with engine1.connect() as con:\n",
    "    stoppage_hist_query = con.execute(\"\"\"\n",
    "    SELECT id, stoppage_id, datetime\n",
    "    FROM dg_ln_stoppages_raw\n",
    "    ORDER BY datetime ASC\n",
    "    LIMIT 100\n",
    "    \"\"\")\n",
    "    con.close()"
   ],
   "metadata": {
    "collapsed": false,
    "pycharm": {
     "name": "#%%\n"
    }
   }
  },
  {
   "cell_type": "code",
   "execution_count": 83,
   "outputs": [],
   "source": [
    "# get data from stoppage_string db\n",
    "with engine1.connect() as conn:\n",
    "    stoppage_str_query = conn.execute(\"\"\"\n",
    "    SELECT fault_id, fault_str, line_stopped, primary_reason\n",
    "    FROM dg_stoppage_strings\n",
    "    ORDER BY fault_id ASC\n",
    "    \"\"\")\n",
    "    con.close()"
   ],
   "metadata": {
    "collapsed": false,
    "pycharm": {
     "name": "#%%\n"
    }
   }
  },
  {
   "cell_type": "code",
   "execution_count": 84,
   "outputs": [],
   "source": [
    "# convert database instances to DataFrame\n",
    "\n",
    "# converting stoppage string instance\n",
    "stoppage_str_df = DataFrame(stoppage_str_query.fetchall())\n",
    "stoppage_str_df.columns = stoppage_str_query.keys()\n",
    "stoppage_str_df.set_index('fault_id')\n",
    "\n",
    "# converting stoppage history instance\n",
    "stoppage_history_df = DataFrame(stoppage_hist_query.fetchall())\n",
    "stoppage_history_df.columns = stoppage_hist_query.keys()\n"
   ],
   "metadata": {
    "collapsed": false,
    "pycharm": {
     "name": "#%%\n"
    }
   }
  },
  {
   "cell_type": "code",
   "execution_count": 85,
   "outputs": [
    {
     "data": {
      "text/plain": "    stoppage_id         occurred_at\n0             0 2021-10-19 06:49:43\n1            64 2021-10-19 06:55:17\n2            49 2021-10-19 06:55:19\n3             1 2021-10-19 06:55:51\n4            59 2021-10-19 06:55:53\n..          ...                 ...\n95           59 2021-10-19 10:31:58\n96            0 2021-10-19 10:32:18\n97           42 2021-10-19 10:42:08\n98            0 2021-10-19 10:43:56\n99           44 2021-10-19 10:44:28\n\n[100 rows x 2 columns]",
      "text/html": "<div>\n<style scoped>\n    .dataframe tbody tr th:only-of-type {\n        vertical-align: middle;\n    }\n\n    .dataframe tbody tr th {\n        vertical-align: top;\n    }\n\n    .dataframe thead th {\n        text-align: right;\n    }\n</style>\n<table border=\"1\" class=\"dataframe\">\n  <thead>\n    <tr style=\"text-align: right;\">\n      <th></th>\n      <th>stoppage_id</th>\n      <th>occurred_at</th>\n    </tr>\n  </thead>\n  <tbody>\n    <tr>\n      <th>0</th>\n      <td>0</td>\n      <td>2021-10-19 06:49:43</td>\n    </tr>\n    <tr>\n      <th>1</th>\n      <td>64</td>\n      <td>2021-10-19 06:55:17</td>\n    </tr>\n    <tr>\n      <th>2</th>\n      <td>49</td>\n      <td>2021-10-19 06:55:19</td>\n    </tr>\n    <tr>\n      <th>3</th>\n      <td>1</td>\n      <td>2021-10-19 06:55:51</td>\n    </tr>\n    <tr>\n      <th>4</th>\n      <td>59</td>\n      <td>2021-10-19 06:55:53</td>\n    </tr>\n    <tr>\n      <th>...</th>\n      <td>...</td>\n      <td>...</td>\n    </tr>\n    <tr>\n      <th>95</th>\n      <td>59</td>\n      <td>2021-10-19 10:31:58</td>\n    </tr>\n    <tr>\n      <th>96</th>\n      <td>0</td>\n      <td>2021-10-19 10:32:18</td>\n    </tr>\n    <tr>\n      <th>97</th>\n      <td>42</td>\n      <td>2021-10-19 10:42:08</td>\n    </tr>\n    <tr>\n      <th>98</th>\n      <td>0</td>\n      <td>2021-10-19 10:43:56</td>\n    </tr>\n    <tr>\n      <th>99</th>\n      <td>44</td>\n      <td>2021-10-19 10:44:28</td>\n    </tr>\n  </tbody>\n</table>\n<p>100 rows × 2 columns</p>\n</div>"
     },
     "execution_count": 85,
     "metadata": {},
     "output_type": "execute_result"
    }
   ],
   "source": [
    "# create the \"occurred_at\" column with the correct datetime format\n",
    "stoppage_history_df['occurred_at'] = pd.to_datetime(stoppage_history_df['datetime'].dt.strftime('%d-%m-%Y %H:%M:%S'))\n",
    "\n",
    "# remove original datetime\n",
    "del stoppage_history_df['datetime']\n",
    "del stoppage_history_df['id']\n",
    "\n",
    "stoppage_history_df.sort_values(by='occurred_at')"
   ],
   "metadata": {
    "collapsed": false,
    "pycharm": {
     "name": "#%%\n"
    }
   }
  },
  {
   "cell_type": "code",
   "execution_count": 113,
   "outputs": [
    {
     "ename": "IndexError",
     "evalue": "invalid index to scalar variable.",
     "output_type": "error",
     "traceback": [
      "\u001B[1;31m---------------------------------------------------------------------------\u001B[0m",
      "\u001B[1;31mIndexError\u001B[0m                                Traceback (most recent call last)",
      "\u001B[1;32mC:\\Users\\MOGYOR~1\\AppData\\Local\\Temp/ipykernel_28812/3086426937.py\u001B[0m in \u001B[0;36m<module>\u001B[1;34m\u001B[0m\n\u001B[0;32m      1\u001B[0m \u001B[0mvar\u001B[0m \u001B[1;33m=\u001B[0m \u001B[0mstoppage_str_df\u001B[0m\u001B[1;33m.\u001B[0m\u001B[0mloc\u001B[0m\u001B[1;33m[\u001B[0m\u001B[1;36m5\u001B[0m\u001B[1;33m,\u001B[0m \u001B[1;34m'fault_id'\u001B[0m\u001B[1;33m]\u001B[0m\u001B[1;33m\u001B[0m\u001B[1;33m\u001B[0m\u001B[0m\n\u001B[0;32m      2\u001B[0m \u001B[1;31m#stoppage_str_df_2['fault_id'] == 0\u001B[0m\u001B[1;33m\u001B[0m\u001B[1;33m\u001B[0m\u001B[0m\n\u001B[1;32m----> 3\u001B[1;33m \u001B[0mprint\u001B[0m\u001B[1;33m(\u001B[0m\u001B[0mvar\u001B[0m\u001B[1;33m[\u001B[0m\u001B[1;34m'fault_str'\u001B[0m\u001B[1;33m]\u001B[0m\u001B[1;33m)\u001B[0m\u001B[1;33m\u001B[0m\u001B[1;33m\u001B[0m\u001B[0m\n\u001B[0m",
      "\u001B[1;31mIndexError\u001B[0m: invalid index to scalar variable."
     ]
    }
   ],
   "source": [
    "var = stoppage_str_df.loc[5, 'fault_id']\n",
    "#stoppage_str_df_2['fault_id'] == 0\n",
    "print(var['fault_str'])"
   ],
   "metadata": {
    "collapsed": false,
    "pycharm": {
     "name": "#%%\n"
    }
   }
  },
  {
   "cell_type": "code",
   "execution_count": 108,
   "outputs": [
    {
     "ename": "TypeError",
     "evalue": "int() argument must be a string, a bytes-like object or a number, not 'Timestamp'",
     "output_type": "error",
     "traceback": [
      "\u001B[1;31m---------------------------------------------------------------------------\u001B[0m",
      "\u001B[1;31mTypeError\u001B[0m                                 Traceback (most recent call last)",
      "\u001B[1;32mC:\\Users\\MOGYOR~1\\AppData\\Local\\Temp/ipykernel_28812/3727747261.py\u001B[0m in \u001B[0;36m<module>\u001B[1;34m\u001B[0m\n\u001B[0;32m      5\u001B[0m \u001B[1;32mfor\u001B[0m \u001B[0mindex_history\u001B[0m\u001B[1;33m,\u001B[0m \u001B[0mstoppage_id\u001B[0m \u001B[1;32min\u001B[0m \u001B[0mstoppage_history_df\u001B[0m\u001B[1;33m.\u001B[0m\u001B[0miterrows\u001B[0m\u001B[1;33m(\u001B[0m\u001B[1;33m)\u001B[0m\u001B[1;33m:\u001B[0m\u001B[1;33m\u001B[0m\u001B[1;33m\u001B[0m\u001B[0m\n\u001B[0;32m      6\u001B[0m     \u001B[1;31m#stoppage_str_df_2 = stoppage_str_df.loc[stoppage_str_df['fault_id'] == int(stoppage_id[0])]\u001B[0m\u001B[1;33m\u001B[0m\u001B[1;33m\u001B[0m\u001B[0m\n\u001B[1;32m----> 7\u001B[1;33m     \u001B[0mprint\u001B[0m\u001B[1;33m(\u001B[0m\u001B[0mstoppage_str_df\u001B[0m\u001B[1;33m.\u001B[0m\u001B[0mloc\u001B[0m\u001B[1;33m[\u001B[0m\u001B[0mint\u001B[0m\u001B[1;33m(\u001B[0m\u001B[0mstoppage_id\u001B[0m\u001B[1;33m[\u001B[0m\u001B[1;36m1\u001B[0m\u001B[1;33m]\u001B[0m\u001B[1;33m)\u001B[0m\u001B[1;33m,\u001B[0m \u001B[1;34m'fault_id'\u001B[0m\u001B[1;33m]\u001B[0m\u001B[1;33m)\u001B[0m\u001B[1;33m\u001B[0m\u001B[1;33m\u001B[0m\u001B[0m\n\u001B[0m\u001B[0;32m      8\u001B[0m     \u001B[1;31m#print(stoppage_str_df_2)\u001B[0m\u001B[1;33m\u001B[0m\u001B[1;33m\u001B[0m\u001B[0m\n\u001B[0;32m      9\u001B[0m     \u001B[1;31m#stoppage_history_df['stoppage_reason'] = stoppage_str_df_2['fault_str']\u001B[0m\u001B[1;33m\u001B[0m\u001B[1;33m\u001B[0m\u001B[0m\n",
      "\u001B[1;31mTypeError\u001B[0m: int() argument must be a string, a bytes-like object or a number, not 'Timestamp'"
     ]
    }
   ],
   "source": [
    "#from numpy.compat import basestring\n",
    "\n",
    "# Iterate through the dataframe\n",
    "\n",
    "for index_history, stoppage_id in stoppage_history_df.iterrows():\n",
    "    #stoppage_str_df_2 = stoppage_str_df.loc[stoppage_str_df['fault_id'] == int(stoppage_id[0])]\n",
    "    print(stoppage_str_df.loc[int(stoppage_id[0]), 'fault_id'])\n",
    "    #print(stoppage_str_df_2)\n",
    "    #stoppage_history_df['stoppage_reason'] = stoppage_str_df_2['fault_str']\n",
    "    #stoppage_history_df['stoppage_reason']= stoppage_str_df_2['fault_str']\n",
    "    #print(stoppage_history_df['stoppage_reason'])"
   ],
   "metadata": {
    "collapsed": false,
    "pycharm": {
     "name": "#%%\n"
    }
   }
  },
  {
   "cell_type": "code",
   "execution_count": 63,
   "outputs": [
    {
     "name": "stdout",
     "output_type": "stream",
     "text": [
      "    stoppage_id         occurred_at stoppage_reason\n",
      "0             0 2021-10-19 06:49:43             NaN\n",
      "1            64 2021-10-19 06:55:17             NaN\n",
      "2            49 2021-10-19 06:55:19             NaN\n",
      "3             1 2021-10-19 06:55:51             NaN\n",
      "4            59 2021-10-19 06:55:53             NaN\n",
      "..          ...                 ...             ...\n",
      "95           59 2021-10-19 10:31:58             NaN\n",
      "96            0 2021-10-19 10:32:18             NaN\n",
      "97           42 2021-10-19 10:42:08             NaN\n",
      "98            0 2021-10-19 10:43:56             NaN\n",
      "99           44 2021-10-19 10:44:28             NaN\n",
      "\n",
      "[100 rows x 3 columns]\n"
     ]
    }
   ],
   "source": [
    "print(stoppage_history_df)"
   ],
   "metadata": {
    "collapsed": false,
    "pycharm": {
     "name": "#%%\n"
    }
   }
  },
  {
   "cell_type": "code",
   "execution_count": 120,
   "outputs": [
    {
     "data": {
      "text/plain": "    stoppage_id         occurred_at\n0             0 2021-10-19 06:49:43\n5             0 2021-10-19 06:55:57\n7             0 2021-10-19 07:00:12\n10            0 2021-10-19 07:14:04\n14            0 2021-10-19 07:15:52\n16            0 2021-10-19 07:18:20\n18            0 2021-10-19 07:23:56\n20            0 2021-10-19 07:30:14\n25            0 2021-10-19 07:34:14\n31            0 2021-10-19 08:02:46\n33            0 2021-10-19 08:28:14\n35            0 2021-10-19 08:52:36\n40            0 2021-10-19 08:55:08\n45            0 2021-10-19 08:56:26\n48            0 2021-10-19 08:57:40\n54            0 2021-10-19 09:08:36\n57            0 2021-10-19 09:39:22\n65            0 2021-10-19 09:40:38\n73            0 2021-10-19 09:47:34\n75            0 2021-10-19 10:04:18\n77            0 2021-10-19 10:04:28\n79            0 2021-10-19 10:16:46\n83            0 2021-10-19 10:21:02\n87            0 2021-10-19 10:23:02\n89            0 2021-10-19 10:26:18\n91            0 2021-10-19 10:31:04\n96            0 2021-10-19 10:32:18\n98            0 2021-10-19 10:43:56",
      "text/html": "<div>\n<style scoped>\n    .dataframe tbody tr th:only-of-type {\n        vertical-align: middle;\n    }\n\n    .dataframe tbody tr th {\n        vertical-align: top;\n    }\n\n    .dataframe thead th {\n        text-align: right;\n    }\n</style>\n<table border=\"1\" class=\"dataframe\">\n  <thead>\n    <tr style=\"text-align: right;\">\n      <th></th>\n      <th>stoppage_id</th>\n      <th>occurred_at</th>\n    </tr>\n  </thead>\n  <tbody>\n    <tr>\n      <th>0</th>\n      <td>0</td>\n      <td>2021-10-19 06:49:43</td>\n    </tr>\n    <tr>\n      <th>5</th>\n      <td>0</td>\n      <td>2021-10-19 06:55:57</td>\n    </tr>\n    <tr>\n      <th>7</th>\n      <td>0</td>\n      <td>2021-10-19 07:00:12</td>\n    </tr>\n    <tr>\n      <th>10</th>\n      <td>0</td>\n      <td>2021-10-19 07:14:04</td>\n    </tr>\n    <tr>\n      <th>14</th>\n      <td>0</td>\n      <td>2021-10-19 07:15:52</td>\n    </tr>\n    <tr>\n      <th>16</th>\n      <td>0</td>\n      <td>2021-10-19 07:18:20</td>\n    </tr>\n    <tr>\n      <th>18</th>\n      <td>0</td>\n      <td>2021-10-19 07:23:56</td>\n    </tr>\n    <tr>\n      <th>20</th>\n      <td>0</td>\n      <td>2021-10-19 07:30:14</td>\n    </tr>\n    <tr>\n      <th>25</th>\n      <td>0</td>\n      <td>2021-10-19 07:34:14</td>\n    </tr>\n    <tr>\n      <th>31</th>\n      <td>0</td>\n      <td>2021-10-19 08:02:46</td>\n    </tr>\n    <tr>\n      <th>33</th>\n      <td>0</td>\n      <td>2021-10-19 08:28:14</td>\n    </tr>\n    <tr>\n      <th>35</th>\n      <td>0</td>\n      <td>2021-10-19 08:52:36</td>\n    </tr>\n    <tr>\n      <th>40</th>\n      <td>0</td>\n      <td>2021-10-19 08:55:08</td>\n    </tr>\n    <tr>\n      <th>45</th>\n      <td>0</td>\n      <td>2021-10-19 08:56:26</td>\n    </tr>\n    <tr>\n      <th>48</th>\n      <td>0</td>\n      <td>2021-10-19 08:57:40</td>\n    </tr>\n    <tr>\n      <th>54</th>\n      <td>0</td>\n      <td>2021-10-19 09:08:36</td>\n    </tr>\n    <tr>\n      <th>57</th>\n      <td>0</td>\n      <td>2021-10-19 09:39:22</td>\n    </tr>\n    <tr>\n      <th>65</th>\n      <td>0</td>\n      <td>2021-10-19 09:40:38</td>\n    </tr>\n    <tr>\n      <th>73</th>\n      <td>0</td>\n      <td>2021-10-19 09:47:34</td>\n    </tr>\n    <tr>\n      <th>75</th>\n      <td>0</td>\n      <td>2021-10-19 10:04:18</td>\n    </tr>\n    <tr>\n      <th>77</th>\n      <td>0</td>\n      <td>2021-10-19 10:04:28</td>\n    </tr>\n    <tr>\n      <th>79</th>\n      <td>0</td>\n      <td>2021-10-19 10:16:46</td>\n    </tr>\n    <tr>\n      <th>83</th>\n      <td>0</td>\n      <td>2021-10-19 10:21:02</td>\n    </tr>\n    <tr>\n      <th>87</th>\n      <td>0</td>\n      <td>2021-10-19 10:23:02</td>\n    </tr>\n    <tr>\n      <th>89</th>\n      <td>0</td>\n      <td>2021-10-19 10:26:18</td>\n    </tr>\n    <tr>\n      <th>91</th>\n      <td>0</td>\n      <td>2021-10-19 10:31:04</td>\n    </tr>\n    <tr>\n      <th>96</th>\n      <td>0</td>\n      <td>2021-10-19 10:32:18</td>\n    </tr>\n    <tr>\n      <th>98</th>\n      <td>0</td>\n      <td>2021-10-19 10:43:56</td>\n    </tr>\n  </tbody>\n</table>\n</div>"
     },
     "execution_count": 120,
     "metadata": {},
     "output_type": "execute_result"
    }
   ],
   "source": [
    "# print rows based on stoppage_id value\n",
    "# stoppage_history_df.loc[stoppage_history_df['stoppage_id']==0]"
   ],
   "metadata": {
    "collapsed": false,
    "pycharm": {
     "name": "#%%\n"
    }
   }
  },
  {
   "cell_type": "code",
   "execution_count": null,
   "outputs": [],
   "source": [],
   "metadata": {
    "collapsed": false,
    "pycharm": {
     "name": "#%%\n"
    }
   }
  }
 ],
 "metadata": {
  "kernelspec": {
   "display_name": "Python 3",
   "language": "python",
   "name": "python3"
  },
  "language_info": {
   "codemirror_mode": {
    "name": "ipython",
    "version": 2
   },
   "file_extension": ".py",
   "mimetype": "text/x-python",
   "name": "python",
   "nbconvert_exporter": "python",
   "pygments_lexer": "ipython2",
   "version": "2.7.6"
  }
 },
 "nbformat": 4,
 "nbformat_minor": 0
}