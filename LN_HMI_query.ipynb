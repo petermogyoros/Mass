{
 "cells": [
  {
   "cell_type": "code",
   "execution_count": 1,
   "id": "2416156c",
   "metadata": {},
   "outputs": [],
   "source": [
    "from login_details import engine1\n",
    "from sqlalchemy import create_engine, select, MetaData, Table, and_, func\n",
    "from sqlalchemy.sql import text"
   ]
  },
  {
   "cell_type": "code",
   "execution_count": 2,
   "id": "2789c1e1",
   "metadata": {},
   "outputs": [],
   "source": [
    "metadata = MetaData(bind=None)"
   ]
  },
  {
   "cell_type": "code",
   "execution_count": 3,
   "id": "b9ceb1ce",
   "metadata": {},
   "outputs": [],
   "source": [
    "table = Table(\n",
    "    'dg_ln_stoppages_raw', \n",
    "    metadata, \n",
    "    autoload=True, \n",
    "    autoload_with=engine1\n",
    ")"
   ]
  },
  {
   "cell_type": "code",
   "execution_count": 4,
   "id": "f4b8c18f",
   "metadata": {},
   "outputs": [],
   "source": [
    "stmt = select([\n",
    "    table.columns.id,\n",
    "    table.columns.stoppage_id,\n",
    "    table.columns.datetime]\n",
    ").where(and_(\n",
    "    table.columns.stoppage_id == 0)\n",
    "       )"
   ]
  },
  {
   "cell_type": "code",
   "execution_count": 6,
   "outputs": [
    {
     "name": "stdout",
     "output_type": "stream",
     "text": [
      "(63, datetime.datetime(2021, 11, 29, 16, 17, 46, tzinfo=psycopg2.tz.FixedOffsetTimezone(offset=0, name=None)))\n",
      "(1, datetime.datetime(2021, 11, 29, 16, 17, 44, tzinfo=psycopg2.tz.FixedOffsetTimezone(offset=0, name=None)))\n",
      "(63, datetime.datetime(2021, 11, 29, 16, 17, 42, tzinfo=psycopg2.tz.FixedOffsetTimezone(offset=0, name=None)))\n",
      "(1, datetime.datetime(2021, 11, 29, 16, 17, 40, tzinfo=psycopg2.tz.FixedOffsetTimezone(offset=0, name=None)))\n",
      "(63, datetime.datetime(2021, 11, 29, 16, 17, 38, tzinfo=psycopg2.tz.FixedOffsetTimezone(offset=0, name=None)))\n",
      "(1, datetime.datetime(2021, 11, 29, 16, 17, 36, tzinfo=psycopg2.tz.FixedOffsetTimezone(offset=0, name=None)))\n",
      "(63, datetime.datetime(2021, 11, 29, 16, 17, 34, tzinfo=psycopg2.tz.FixedOffsetTimezone(offset=0, name=None)))\n",
      "(1, datetime.datetime(2021, 11, 29, 16, 17, 32, tzinfo=psycopg2.tz.FixedOffsetTimezone(offset=0, name=None)))\n",
      "(63, datetime.datetime(2021, 11, 29, 16, 17, 30, tzinfo=psycopg2.tz.FixedOffsetTimezone(offset=0, name=None)))\n",
      "(1, datetime.datetime(2021, 11, 29, 16, 17, 28, tzinfo=psycopg2.tz.FixedOffsetTimezone(offset=0, name=None)))\n",
      "(63, datetime.datetime(2021, 11, 29, 16, 17, 26, tzinfo=psycopg2.tz.FixedOffsetTimezone(offset=0, name=None)))\n",
      "(1, datetime.datetime(2021, 11, 29, 16, 17, 24, tzinfo=psycopg2.tz.FixedOffsetTimezone(offset=0, name=None)))\n",
      "(63, datetime.datetime(2021, 11, 29, 16, 17, 22, tzinfo=psycopg2.tz.FixedOffsetTimezone(offset=0, name=None)))\n",
      "(1, datetime.datetime(2021, 11, 29, 16, 17, 20, tzinfo=psycopg2.tz.FixedOffsetTimezone(offset=0, name=None)))\n",
      "(63, datetime.datetime(2021, 11, 29, 16, 17, 18, tzinfo=psycopg2.tz.FixedOffsetTimezone(offset=0, name=None)))\n",
      "(1, datetime.datetime(2021, 11, 29, 16, 17, 16, tzinfo=psycopg2.tz.FixedOffsetTimezone(offset=0, name=None)))\n",
      "(63, datetime.datetime(2021, 11, 29, 16, 17, 14, tzinfo=psycopg2.tz.FixedOffsetTimezone(offset=0, name=None)))\n",
      "(1, datetime.datetime(2021, 11, 29, 16, 17, 12, tzinfo=psycopg2.tz.FixedOffsetTimezone(offset=0, name=None)))\n",
      "(63, datetime.datetime(2021, 11, 29, 16, 17, 10, tzinfo=psycopg2.tz.FixedOffsetTimezone(offset=0, name=None)))\n",
      "(1, datetime.datetime(2021, 11, 29, 16, 17, 8, tzinfo=psycopg2.tz.FixedOffsetTimezone(offset=0, name=None)))\n",
      "(63, datetime.datetime(2021, 11, 29, 16, 17, 6, tzinfo=psycopg2.tz.FixedOffsetTimezone(offset=0, name=None)))\n",
      "(1, datetime.datetime(2021, 11, 29, 16, 17, 4, tzinfo=psycopg2.tz.FixedOffsetTimezone(offset=0, name=None)))\n",
      "(63, datetime.datetime(2021, 11, 29, 16, 17, 2, tzinfo=psycopg2.tz.FixedOffsetTimezone(offset=0, name=None)))\n",
      "(1, datetime.datetime(2021, 11, 29, 16, 17, tzinfo=psycopg2.tz.FixedOffsetTimezone(offset=0, name=None)))\n",
      "(63, datetime.datetime(2021, 11, 29, 16, 16, 58, tzinfo=psycopg2.tz.FixedOffsetTimezone(offset=0, name=None)))\n",
      "(1, datetime.datetime(2021, 11, 29, 16, 16, 56, tzinfo=psycopg2.tz.FixedOffsetTimezone(offset=0, name=None)))\n",
      "(63, datetime.datetime(2021, 11, 29, 16, 16, 54, tzinfo=psycopg2.tz.FixedOffsetTimezone(offset=0, name=None)))\n",
      "(1, datetime.datetime(2021, 11, 29, 16, 16, 52, tzinfo=psycopg2.tz.FixedOffsetTimezone(offset=0, name=None)))\n",
      "(63, datetime.datetime(2021, 11, 29, 16, 16, 50, tzinfo=psycopg2.tz.FixedOffsetTimezone(offset=0, name=None)))\n",
      "(1, datetime.datetime(2021, 11, 29, 16, 16, 48, tzinfo=psycopg2.tz.FixedOffsetTimezone(offset=0, name=None)))\n",
      "(63, datetime.datetime(2021, 11, 29, 16, 16, 46, tzinfo=psycopg2.tz.FixedOffsetTimezone(offset=0, name=None)))\n",
      "(1, datetime.datetime(2021, 11, 29, 16, 16, 44, tzinfo=psycopg2.tz.FixedOffsetTimezone(offset=0, name=None)))\n",
      "(63, datetime.datetime(2021, 11, 29, 16, 16, 42, tzinfo=psycopg2.tz.FixedOffsetTimezone(offset=0, name=None)))\n",
      "(1, datetime.datetime(2021, 11, 29, 16, 16, 40, tzinfo=psycopg2.tz.FixedOffsetTimezone(offset=0, name=None)))\n",
      "(63, datetime.datetime(2021, 11, 29, 16, 16, 38, tzinfo=psycopg2.tz.FixedOffsetTimezone(offset=0, name=None)))\n",
      "(1, datetime.datetime(2021, 11, 29, 16, 16, 36, tzinfo=psycopg2.tz.FixedOffsetTimezone(offset=0, name=None)))\n",
      "(63, datetime.datetime(2021, 11, 29, 16, 16, 34, tzinfo=psycopg2.tz.FixedOffsetTimezone(offset=0, name=None)))\n",
      "(1, datetime.datetime(2021, 11, 29, 16, 16, 32, tzinfo=psycopg2.tz.FixedOffsetTimezone(offset=0, name=None)))\n",
      "(63, datetime.datetime(2021, 11, 29, 16, 16, 30, tzinfo=psycopg2.tz.FixedOffsetTimezone(offset=0, name=None)))\n",
      "(1, datetime.datetime(2021, 11, 29, 16, 16, 28, tzinfo=psycopg2.tz.FixedOffsetTimezone(offset=0, name=None)))\n",
      "(63, datetime.datetime(2021, 11, 29, 16, 16, 26, tzinfo=psycopg2.tz.FixedOffsetTimezone(offset=0, name=None)))\n",
      "(1, datetime.datetime(2021, 11, 29, 16, 16, 24, tzinfo=psycopg2.tz.FixedOffsetTimezone(offset=0, name=None)))\n",
      "(63, datetime.datetime(2021, 11, 29, 16, 16, 22, tzinfo=psycopg2.tz.FixedOffsetTimezone(offset=0, name=None)))\n",
      "(1, datetime.datetime(2021, 11, 29, 16, 16, 20, tzinfo=psycopg2.tz.FixedOffsetTimezone(offset=0, name=None)))\n",
      "(63, datetime.datetime(2021, 11, 29, 16, 16, 18, tzinfo=psycopg2.tz.FixedOffsetTimezone(offset=0, name=None)))\n",
      "(1, datetime.datetime(2021, 11, 29, 16, 16, 16, tzinfo=psycopg2.tz.FixedOffsetTimezone(offset=0, name=None)))\n",
      "(63, datetime.datetime(2021, 11, 29, 16, 16, 14, tzinfo=psycopg2.tz.FixedOffsetTimezone(offset=0, name=None)))\n",
      "(1, datetime.datetime(2021, 11, 29, 16, 16, 12, tzinfo=psycopg2.tz.FixedOffsetTimezone(offset=0, name=None)))\n",
      "(63, datetime.datetime(2021, 11, 29, 16, 16, 10, tzinfo=psycopg2.tz.FixedOffsetTimezone(offset=0, name=None)))\n",
      "(1, datetime.datetime(2021, 11, 29, 16, 16, 8, tzinfo=psycopg2.tz.FixedOffsetTimezone(offset=0, name=None)))\n"
     ]
    }
   ],
   "source": [
    "with engine1.connect() as con:\n",
    "    statement = con.execute(\"\"\"\n",
    "    SELECT stoppage_id, datetime\n",
    "    FROM dg_ln_stoppages_raw\n",
    "    GROUP BY stoppage_id, datetime\n",
    "    ORDER BY datetime DESC\n",
    "    LIMIT 50\n",
    "    \"\"\")\n",
    "    for row in statement:\n",
    "        print(row)"
   ],
   "metadata": {
    "collapsed": false,
    "pycharm": {
     "name": "#%%\n"
    }
   }
  },
  {
   "cell_type": "code",
   "execution_count": 56,
   "id": "1d2c37a1",
   "metadata": {},
   "outputs": [],
   "source": [
    "conn = engine.connect()\n",
    "results = conn.execute(stmt).all()"
   ]
  },
  {
   "cell_type": "code",
   "execution_count": 35,
   "id": "807d700d",
   "metadata": {},
   "outputs": [
    {
     "name": "stdout",
     "output_type": "stream",
     "text": [
      "301\n",
      "0\n",
      "2021-11-04 13:42:15+00:00\n"
     ]
    }
   ],
   "source": [
    "for result in results:\n",
    "    print(result)"
   ]
  },
  {
   "cell_type": "code",
   "execution_count": 32,
   "id": "313fa6d5",
   "metadata": {},
   "outputs": [],
   "source": []
  }
 ],
 "metadata": {
  "kernelspec": {
   "name": "pycharm-dfeb08af",
   "language": "python",
   "display_name": "PyCharm (Massmould)"
  },
  "language_info": {
   "codemirror_mode": {
    "name": "ipython",
    "version": 3
   },
   "file_extension": ".py",
   "mimetype": "text/x-python",
   "name": "python",
   "nbconvert_exporter": "python",
   "pygments_lexer": "ipython3",
   "version": "3.9.7"
  }
 },
 "nbformat": 4,
 "nbformat_minor": 5
}