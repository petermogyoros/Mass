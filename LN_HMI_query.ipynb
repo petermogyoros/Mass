{
 "cells": [
  {
   "cell_type": "code",
   "execution_count": 77,
   "id": "2416156c",
   "metadata": {},
   "outputs": [],
   "source": [
    "from login_details import engine1\n",
    "from sqlalchemy import select, MetaData, Table, and_, func\n",
    "from main import ln_stoppages_production\n",
    "import pandas as pd\n",
    "from pandas import DataFrame"
   ]
  },
  {
   "cell_type": "code",
   "execution_count": 20,
   "id": "b9ceb1ce",
   "metadata": {},
   "outputs": [
    {
     "data": {
      "text/plain": "<main.ln_stoppages_production at 0x10ccffa8d00>"
     },
     "execution_count": 20,
     "metadata": {},
     "output_type": "execute_result"
    }
   ],
   "source": [
    "ln_stoppages_production()"
   ]
  },
  {
   "cell_type": "code",
   "execution_count": 54,
   "outputs": [],
   "source": [
    "df = pd.DataFrame(columns=['stoppage_id', 'from_datetime', 'until_datetime', 'line_stopped'])"
   ],
   "metadata": {
    "collapsed": false,
    "pycharm": {
     "name": "#%%\n"
    }
   }
  },
  {
   "cell_type": "code",
   "execution_count": 78,
   "outputs": [
    {
     "ename": "ProgrammingError",
     "evalue": "(psycopg2.errors.UndefinedFunction) function day(timestamp with time zone) does not exist\nLINE 2:     SELECT stoppage_id, day(datetime)\n                                ^\nHINT:  No function matches the given name and argument types. You might need to add explicit type casts.\n\n[SQL: \n    SELECT stoppage_id, day(datetime)\n    FROM dg_ln_stoppages_raw\n    GROUP BY stoppage_id, day(datetime)\n    ORDER BY datetime ASC\n    LIMIT 5\n    ]\n(Background on this error at: https://sqlalche.me/e/14/f405)",
     "output_type": "error",
     "traceback": [
      "\u001B[1;31m---------------------------------------------------------------------------\u001B[0m",
      "\u001B[1;31mUndefinedFunction\u001B[0m                         Traceback (most recent call last)",
      "\u001B[1;32m~\\Anacond\\envs\\Massmould\\lib\\site-packages\\sqlalchemy\\engine\\base.py\u001B[0m in \u001B[0;36m_execute_context\u001B[1;34m(self, dialect, constructor, statement, parameters, execution_options, *args, **kw)\u001B[0m\n\u001B[0;32m   1770\u001B[0m                 \u001B[1;32mif\u001B[0m \u001B[1;32mnot\u001B[0m \u001B[0mevt_handled\u001B[0m\u001B[1;33m:\u001B[0m\u001B[1;33m\u001B[0m\u001B[1;33m\u001B[0m\u001B[0m\n\u001B[1;32m-> 1771\u001B[1;33m                     self.dialect.do_execute(\n\u001B[0m\u001B[0;32m   1772\u001B[0m                         \u001B[0mcursor\u001B[0m\u001B[1;33m,\u001B[0m \u001B[0mstatement\u001B[0m\u001B[1;33m,\u001B[0m \u001B[0mparameters\u001B[0m\u001B[1;33m,\u001B[0m \u001B[0mcontext\u001B[0m\u001B[1;33m\u001B[0m\u001B[1;33m\u001B[0m\u001B[0m\n",
      "\u001B[1;32m~\\Anacond\\envs\\Massmould\\lib\\site-packages\\sqlalchemy\\engine\\default.py\u001B[0m in \u001B[0;36mdo_execute\u001B[1;34m(self, cursor, statement, parameters, context)\u001B[0m\n\u001B[0;32m    716\u001B[0m     \u001B[1;32mdef\u001B[0m \u001B[0mdo_execute\u001B[0m\u001B[1;33m(\u001B[0m\u001B[0mself\u001B[0m\u001B[1;33m,\u001B[0m \u001B[0mcursor\u001B[0m\u001B[1;33m,\u001B[0m \u001B[0mstatement\u001B[0m\u001B[1;33m,\u001B[0m \u001B[0mparameters\u001B[0m\u001B[1;33m,\u001B[0m \u001B[0mcontext\u001B[0m\u001B[1;33m=\u001B[0m\u001B[1;32mNone\u001B[0m\u001B[1;33m)\u001B[0m\u001B[1;33m:\u001B[0m\u001B[1;33m\u001B[0m\u001B[1;33m\u001B[0m\u001B[0m\n\u001B[1;32m--> 717\u001B[1;33m         \u001B[0mcursor\u001B[0m\u001B[1;33m.\u001B[0m\u001B[0mexecute\u001B[0m\u001B[1;33m(\u001B[0m\u001B[0mstatement\u001B[0m\u001B[1;33m,\u001B[0m \u001B[0mparameters\u001B[0m\u001B[1;33m)\u001B[0m\u001B[1;33m\u001B[0m\u001B[1;33m\u001B[0m\u001B[0m\n\u001B[0m\u001B[0;32m    718\u001B[0m \u001B[1;33m\u001B[0m\u001B[0m\n",
      "\u001B[1;31mUndefinedFunction\u001B[0m: function day(timestamp with time zone) does not exist\nLINE 2:     SELECT stoppage_id, day(datetime)\n                                ^\nHINT:  No function matches the given name and argument types. You might need to add explicit type casts.\n",
      "\nThe above exception was the direct cause of the following exception:\n",
      "\u001B[1;31mProgrammingError\u001B[0m                          Traceback (most recent call last)",
      "\u001B[1;32mC:\\Users\\MOGYOR~1\\AppData\\Local\\Temp/ipykernel_16712/2981202451.py\u001B[0m in \u001B[0;36m<module>\u001B[1;34m\u001B[0m\n\u001B[0;32m      1\u001B[0m \u001B[1;32mwith\u001B[0m \u001B[0mengine1\u001B[0m\u001B[1;33m.\u001B[0m\u001B[0mconnect\u001B[0m\u001B[1;33m(\u001B[0m\u001B[1;33m)\u001B[0m \u001B[1;32mas\u001B[0m \u001B[0mcon\u001B[0m\u001B[1;33m:\u001B[0m\u001B[1;33m\u001B[0m\u001B[1;33m\u001B[0m\u001B[0m\n\u001B[1;32m----> 2\u001B[1;33m     statement = con.execute(\"\"\"\n\u001B[0m\u001B[0;32m      3\u001B[0m     \u001B[0mSELECT\u001B[0m \u001B[0mstoppage_id\u001B[0m\u001B[1;33m,\u001B[0m \u001B[0mday\u001B[0m\u001B[1;33m(\u001B[0m\u001B[0mdatetime\u001B[0m\u001B[1;33m)\u001B[0m\u001B[1;33m\u001B[0m\u001B[1;33m\u001B[0m\u001B[0m\n\u001B[0;32m      4\u001B[0m     \u001B[0mFROM\u001B[0m \u001B[0mdg_ln_stoppages_raw\u001B[0m\u001B[1;33m\u001B[0m\u001B[1;33m\u001B[0m\u001B[0m\n\u001B[0;32m      5\u001B[0m     \u001B[0mGROUP\u001B[0m \u001B[0mBY\u001B[0m \u001B[0mstoppage_id\u001B[0m\u001B[1;33m,\u001B[0m \u001B[0mday\u001B[0m\u001B[1;33m(\u001B[0m\u001B[0mdatetime\u001B[0m\u001B[1;33m)\u001B[0m\u001B[1;33m\u001B[0m\u001B[1;33m\u001B[0m\u001B[0m\n",
      "\u001B[1;32m~\\Anacond\\envs\\Massmould\\lib\\site-packages\\sqlalchemy\\engine\\base.py\u001B[0m in \u001B[0;36mexecute\u001B[1;34m(self, statement, *multiparams, **params)\u001B[0m\n\u001B[0;32m   1246\u001B[0m             )\n\u001B[0;32m   1247\u001B[0m \u001B[1;33m\u001B[0m\u001B[0m\n\u001B[1;32m-> 1248\u001B[1;33m             return self._exec_driver_sql(\n\u001B[0m\u001B[0;32m   1249\u001B[0m                 \u001B[0mstatement\u001B[0m\u001B[1;33m,\u001B[0m\u001B[1;33m\u001B[0m\u001B[1;33m\u001B[0m\u001B[0m\n\u001B[0;32m   1250\u001B[0m                 \u001B[0mmultiparams\u001B[0m\u001B[1;33m,\u001B[0m\u001B[1;33m\u001B[0m\u001B[1;33m\u001B[0m\u001B[0m\n",
      "\u001B[1;32m~\\Anacond\\envs\\Massmould\\lib\\site-packages\\sqlalchemy\\engine\\base.py\u001B[0m in \u001B[0;36m_exec_driver_sql\u001B[1;34m(self, statement, multiparams, params, execution_options, future)\u001B[0m\n\u001B[0;32m   1545\u001B[0m \u001B[1;33m\u001B[0m\u001B[0m\n\u001B[0;32m   1546\u001B[0m         \u001B[0mdialect\u001B[0m \u001B[1;33m=\u001B[0m \u001B[0mself\u001B[0m\u001B[1;33m.\u001B[0m\u001B[0mdialect\u001B[0m\u001B[1;33m\u001B[0m\u001B[1;33m\u001B[0m\u001B[0m\n\u001B[1;32m-> 1547\u001B[1;33m         ret = self._execute_context(\n\u001B[0m\u001B[0;32m   1548\u001B[0m             \u001B[0mdialect\u001B[0m\u001B[1;33m,\u001B[0m\u001B[1;33m\u001B[0m\u001B[1;33m\u001B[0m\u001B[0m\n\u001B[0;32m   1549\u001B[0m             \u001B[0mdialect\u001B[0m\u001B[1;33m.\u001B[0m\u001B[0mexecution_ctx_cls\u001B[0m\u001B[1;33m.\u001B[0m\u001B[0m_init_statement\u001B[0m\u001B[1;33m,\u001B[0m\u001B[1;33m\u001B[0m\u001B[1;33m\u001B[0m\u001B[0m\n",
      "\u001B[1;32m~\\Anacond\\envs\\Massmould\\lib\\site-packages\\sqlalchemy\\engine\\base.py\u001B[0m in \u001B[0;36m_execute_context\u001B[1;34m(self, dialect, constructor, statement, parameters, execution_options, *args, **kw)\u001B[0m\n\u001B[0;32m   1812\u001B[0m \u001B[1;33m\u001B[0m\u001B[0m\n\u001B[0;32m   1813\u001B[0m         \u001B[1;32mexcept\u001B[0m \u001B[0mBaseException\u001B[0m \u001B[1;32mas\u001B[0m \u001B[0me\u001B[0m\u001B[1;33m:\u001B[0m\u001B[1;33m\u001B[0m\u001B[1;33m\u001B[0m\u001B[0m\n\u001B[1;32m-> 1814\u001B[1;33m             self._handle_dbapi_exception(\n\u001B[0m\u001B[0;32m   1815\u001B[0m                 \u001B[0me\u001B[0m\u001B[1;33m,\u001B[0m \u001B[0mstatement\u001B[0m\u001B[1;33m,\u001B[0m \u001B[0mparameters\u001B[0m\u001B[1;33m,\u001B[0m \u001B[0mcursor\u001B[0m\u001B[1;33m,\u001B[0m \u001B[0mcontext\u001B[0m\u001B[1;33m\u001B[0m\u001B[1;33m\u001B[0m\u001B[0m\n\u001B[0;32m   1816\u001B[0m             )\n",
      "\u001B[1;32m~\\Anacond\\envs\\Massmould\\lib\\site-packages\\sqlalchemy\\engine\\base.py\u001B[0m in \u001B[0;36m_handle_dbapi_exception\u001B[1;34m(self, e, statement, parameters, cursor, context)\u001B[0m\n\u001B[0;32m   1993\u001B[0m                 \u001B[0mutil\u001B[0m\u001B[1;33m.\u001B[0m\u001B[0mraise_\u001B[0m\u001B[1;33m(\u001B[0m\u001B[0mnewraise\u001B[0m\u001B[1;33m,\u001B[0m \u001B[0mwith_traceback\u001B[0m\u001B[1;33m=\u001B[0m\u001B[0mexc_info\u001B[0m\u001B[1;33m[\u001B[0m\u001B[1;36m2\u001B[0m\u001B[1;33m]\u001B[0m\u001B[1;33m,\u001B[0m \u001B[0mfrom_\u001B[0m\u001B[1;33m=\u001B[0m\u001B[0me\u001B[0m\u001B[1;33m)\u001B[0m\u001B[1;33m\u001B[0m\u001B[1;33m\u001B[0m\u001B[0m\n\u001B[0;32m   1994\u001B[0m             \u001B[1;32melif\u001B[0m \u001B[0mshould_wrap\u001B[0m\u001B[1;33m:\u001B[0m\u001B[1;33m\u001B[0m\u001B[1;33m\u001B[0m\u001B[0m\n\u001B[1;32m-> 1995\u001B[1;33m                 util.raise_(\n\u001B[0m\u001B[0;32m   1996\u001B[0m                     \u001B[0msqlalchemy_exception\u001B[0m\u001B[1;33m,\u001B[0m \u001B[0mwith_traceback\u001B[0m\u001B[1;33m=\u001B[0m\u001B[0mexc_info\u001B[0m\u001B[1;33m[\u001B[0m\u001B[1;36m2\u001B[0m\u001B[1;33m]\u001B[0m\u001B[1;33m,\u001B[0m \u001B[0mfrom_\u001B[0m\u001B[1;33m=\u001B[0m\u001B[0me\u001B[0m\u001B[1;33m\u001B[0m\u001B[1;33m\u001B[0m\u001B[0m\n\u001B[0;32m   1997\u001B[0m                 )\n",
      "\u001B[1;32m~\\Anacond\\envs\\Massmould\\lib\\site-packages\\sqlalchemy\\util\\compat.py\u001B[0m in \u001B[0;36mraise_\u001B[1;34m(***failed resolving arguments***)\u001B[0m\n\u001B[0;32m    205\u001B[0m \u001B[1;33m\u001B[0m\u001B[0m\n\u001B[0;32m    206\u001B[0m         \u001B[1;32mtry\u001B[0m\u001B[1;33m:\u001B[0m\u001B[1;33m\u001B[0m\u001B[1;33m\u001B[0m\u001B[0m\n\u001B[1;32m--> 207\u001B[1;33m             \u001B[1;32mraise\u001B[0m \u001B[0mexception\u001B[0m\u001B[1;33m\u001B[0m\u001B[1;33m\u001B[0m\u001B[0m\n\u001B[0m\u001B[0;32m    208\u001B[0m         \u001B[1;32mfinally\u001B[0m\u001B[1;33m:\u001B[0m\u001B[1;33m\u001B[0m\u001B[1;33m\u001B[0m\u001B[0m\n\u001B[0;32m    209\u001B[0m             \u001B[1;31m# credit to\u001B[0m\u001B[1;33m\u001B[0m\u001B[1;33m\u001B[0m\u001B[0m\n",
      "\u001B[1;32m~\\Anacond\\envs\\Massmould\\lib\\site-packages\\sqlalchemy\\engine\\base.py\u001B[0m in \u001B[0;36m_execute_context\u001B[1;34m(self, dialect, constructor, statement, parameters, execution_options, *args, **kw)\u001B[0m\n\u001B[0;32m   1769\u001B[0m                             \u001B[1;32mbreak\u001B[0m\u001B[1;33m\u001B[0m\u001B[1;33m\u001B[0m\u001B[0m\n\u001B[0;32m   1770\u001B[0m                 \u001B[1;32mif\u001B[0m \u001B[1;32mnot\u001B[0m \u001B[0mevt_handled\u001B[0m\u001B[1;33m:\u001B[0m\u001B[1;33m\u001B[0m\u001B[1;33m\u001B[0m\u001B[0m\n\u001B[1;32m-> 1771\u001B[1;33m                     self.dialect.do_execute(\n\u001B[0m\u001B[0;32m   1772\u001B[0m                         \u001B[0mcursor\u001B[0m\u001B[1;33m,\u001B[0m \u001B[0mstatement\u001B[0m\u001B[1;33m,\u001B[0m \u001B[0mparameters\u001B[0m\u001B[1;33m,\u001B[0m \u001B[0mcontext\u001B[0m\u001B[1;33m\u001B[0m\u001B[1;33m\u001B[0m\u001B[0m\n\u001B[0;32m   1773\u001B[0m                     )\n",
      "\u001B[1;32m~\\Anacond\\envs\\Massmould\\lib\\site-packages\\sqlalchemy\\engine\\default.py\u001B[0m in \u001B[0;36mdo_execute\u001B[1;34m(self, cursor, statement, parameters, context)\u001B[0m\n\u001B[0;32m    715\u001B[0m \u001B[1;33m\u001B[0m\u001B[0m\n\u001B[0;32m    716\u001B[0m     \u001B[1;32mdef\u001B[0m \u001B[0mdo_execute\u001B[0m\u001B[1;33m(\u001B[0m\u001B[0mself\u001B[0m\u001B[1;33m,\u001B[0m \u001B[0mcursor\u001B[0m\u001B[1;33m,\u001B[0m \u001B[0mstatement\u001B[0m\u001B[1;33m,\u001B[0m \u001B[0mparameters\u001B[0m\u001B[1;33m,\u001B[0m \u001B[0mcontext\u001B[0m\u001B[1;33m=\u001B[0m\u001B[1;32mNone\u001B[0m\u001B[1;33m)\u001B[0m\u001B[1;33m:\u001B[0m\u001B[1;33m\u001B[0m\u001B[1;33m\u001B[0m\u001B[0m\n\u001B[1;32m--> 717\u001B[1;33m         \u001B[0mcursor\u001B[0m\u001B[1;33m.\u001B[0m\u001B[0mexecute\u001B[0m\u001B[1;33m(\u001B[0m\u001B[0mstatement\u001B[0m\u001B[1;33m,\u001B[0m \u001B[0mparameters\u001B[0m\u001B[1;33m)\u001B[0m\u001B[1;33m\u001B[0m\u001B[1;33m\u001B[0m\u001B[0m\n\u001B[0m\u001B[0;32m    718\u001B[0m \u001B[1;33m\u001B[0m\u001B[0m\n\u001B[0;32m    719\u001B[0m     \u001B[1;32mdef\u001B[0m \u001B[0mdo_execute_no_params\u001B[0m\u001B[1;33m(\u001B[0m\u001B[0mself\u001B[0m\u001B[1;33m,\u001B[0m \u001B[0mcursor\u001B[0m\u001B[1;33m,\u001B[0m \u001B[0mstatement\u001B[0m\u001B[1;33m,\u001B[0m \u001B[0mcontext\u001B[0m\u001B[1;33m=\u001B[0m\u001B[1;32mNone\u001B[0m\u001B[1;33m)\u001B[0m\u001B[1;33m:\u001B[0m\u001B[1;33m\u001B[0m\u001B[1;33m\u001B[0m\u001B[0m\n",
      "\u001B[1;31mProgrammingError\u001B[0m: (psycopg2.errors.UndefinedFunction) function day(timestamp with time zone) does not exist\nLINE 2:     SELECT stoppage_id, day(datetime)\n                                ^\nHINT:  No function matches the given name and argument types. You might need to add explicit type casts.\n\n[SQL: \n    SELECT stoppage_id, day(datetime)\n    FROM dg_ln_stoppages_raw\n    GROUP BY stoppage_id, day(datetime)\n    ORDER BY datetime ASC\n    LIMIT 5\n    ]\n(Background on this error at: https://sqlalche.me/e/14/f405)"
     ]
    }
   ],
   "source": [
    "with engine1.connect() as con:\n",
    "    statement = con.execute(\"\"\"\n",
    "    SELECT stoppage_id, day(datetime)\n",
    "    FROM dg_ln_stoppages_raw\n",
    "    GROUP BY stoppage_id, day(datetime)\n",
    "    ORDER BY datetime ASC\n",
    "    LIMIT 5\n",
    "    \"\"\")\n",
    "\n",
    "    for row in statement:\n",
    "        print(row)\n",
    "'''\n",
    "table = Table(\n",
    "    'dg_ln_stoppages_raw', \n",
    "    metadata, \n",
    "    autoload=True, \n",
    "    autoload_with=engine1\n",
    ")\n",
    "'''"
   ],
   "metadata": {
    "collapsed": false,
    "pycharm": {
     "name": "#%%\n"
    }
   }
  },
  {
   "cell_type": "code",
   "execution_count": 4,
   "id": "f4b8c18f",
   "metadata": {},
   "outputs": [],
   "source": [
    "stmt = select([\n",
    "    table.columns.id,\n",
    "    table.columns.stoppage_id,\n",
    "    table.columns.datetime]\n",
    ").where(and_(\n",
    "    table.columns.stoppage_id == 0)\n",
    "       )"
   ]
  },
  {
   "cell_type": "code",
   "execution_count": 6,
   "outputs": [
    {
     "name": "stdout",
     "output_type": "stream",
     "text": [
      "(63, datetime.datetime(2021, 11, 29, 16, 17, 46, tzinfo=psycopg2.tz.FixedOffsetTimezone(offset=0, name=None)))\n",
      "(1, datetime.datetime(2021, 11, 29, 16, 17, 44, tzinfo=psycopg2.tz.FixedOffsetTimezone(offset=0, name=None)))\n",
      "(63, datetime.datetime(2021, 11, 29, 16, 17, 42, tzinfo=psycopg2.tz.FixedOffsetTimezone(offset=0, name=None)))\n",
      "(1, datetime.datetime(2021, 11, 29, 16, 17, 40, tzinfo=psycopg2.tz.FixedOffsetTimezone(offset=0, name=None)))\n",
      "(63, datetime.datetime(2021, 11, 29, 16, 17, 38, tzinfo=psycopg2.tz.FixedOffsetTimezone(offset=0, name=None)))\n",
      "(1, datetime.datetime(2021, 11, 29, 16, 17, 36, tzinfo=psycopg2.tz.FixedOffsetTimezone(offset=0, name=None)))\n",
      "(63, datetime.datetime(2021, 11, 29, 16, 17, 34, tzinfo=psycopg2.tz.FixedOffsetTimezone(offset=0, name=None)))\n",
      "(1, datetime.datetime(2021, 11, 29, 16, 17, 32, tzinfo=psycopg2.tz.FixedOffsetTimezone(offset=0, name=None)))\n",
      "(63, datetime.datetime(2021, 11, 29, 16, 17, 30, tzinfo=psycopg2.tz.FixedOffsetTimezone(offset=0, name=None)))\n",
      "(1, datetime.datetime(2021, 11, 29, 16, 17, 28, tzinfo=psycopg2.tz.FixedOffsetTimezone(offset=0, name=None)))\n",
      "(63, datetime.datetime(2021, 11, 29, 16, 17, 26, tzinfo=psycopg2.tz.FixedOffsetTimezone(offset=0, name=None)))\n",
      "(1, datetime.datetime(2021, 11, 29, 16, 17, 24, tzinfo=psycopg2.tz.FixedOffsetTimezone(offset=0, name=None)))\n",
      "(63, datetime.datetime(2021, 11, 29, 16, 17, 22, tzinfo=psycopg2.tz.FixedOffsetTimezone(offset=0, name=None)))\n",
      "(1, datetime.datetime(2021, 11, 29, 16, 17, 20, tzinfo=psycopg2.tz.FixedOffsetTimezone(offset=0, name=None)))\n",
      "(63, datetime.datetime(2021, 11, 29, 16, 17, 18, tzinfo=psycopg2.tz.FixedOffsetTimezone(offset=0, name=None)))\n",
      "(1, datetime.datetime(2021, 11, 29, 16, 17, 16, tzinfo=psycopg2.tz.FixedOffsetTimezone(offset=0, name=None)))\n",
      "(63, datetime.datetime(2021, 11, 29, 16, 17, 14, tzinfo=psycopg2.tz.FixedOffsetTimezone(offset=0, name=None)))\n",
      "(1, datetime.datetime(2021, 11, 29, 16, 17, 12, tzinfo=psycopg2.tz.FixedOffsetTimezone(offset=0, name=None)))\n",
      "(63, datetime.datetime(2021, 11, 29, 16, 17, 10, tzinfo=psycopg2.tz.FixedOffsetTimezone(offset=0, name=None)))\n",
      "(1, datetime.datetime(2021, 11, 29, 16, 17, 8, tzinfo=psycopg2.tz.FixedOffsetTimezone(offset=0, name=None)))\n",
      "(63, datetime.datetime(2021, 11, 29, 16, 17, 6, tzinfo=psycopg2.tz.FixedOffsetTimezone(offset=0, name=None)))\n",
      "(1, datetime.datetime(2021, 11, 29, 16, 17, 4, tzinfo=psycopg2.tz.FixedOffsetTimezone(offset=0, name=None)))\n",
      "(63, datetime.datetime(2021, 11, 29, 16, 17, 2, tzinfo=psycopg2.tz.FixedOffsetTimezone(offset=0, name=None)))\n",
      "(1, datetime.datetime(2021, 11, 29, 16, 17, tzinfo=psycopg2.tz.FixedOffsetTimezone(offset=0, name=None)))\n",
      "(63, datetime.datetime(2021, 11, 29, 16, 16, 58, tzinfo=psycopg2.tz.FixedOffsetTimezone(offset=0, name=None)))\n",
      "(1, datetime.datetime(2021, 11, 29, 16, 16, 56, tzinfo=psycopg2.tz.FixedOffsetTimezone(offset=0, name=None)))\n",
      "(63, datetime.datetime(2021, 11, 29, 16, 16, 54, tzinfo=psycopg2.tz.FixedOffsetTimezone(offset=0, name=None)))\n",
      "(1, datetime.datetime(2021, 11, 29, 16, 16, 52, tzinfo=psycopg2.tz.FixedOffsetTimezone(offset=0, name=None)))\n",
      "(63, datetime.datetime(2021, 11, 29, 16, 16, 50, tzinfo=psycopg2.tz.FixedOffsetTimezone(offset=0, name=None)))\n",
      "(1, datetime.datetime(2021, 11, 29, 16, 16, 48, tzinfo=psycopg2.tz.FixedOffsetTimezone(offset=0, name=None)))\n",
      "(63, datetime.datetime(2021, 11, 29, 16, 16, 46, tzinfo=psycopg2.tz.FixedOffsetTimezone(offset=0, name=None)))\n",
      "(1, datetime.datetime(2021, 11, 29, 16, 16, 44, tzinfo=psycopg2.tz.FixedOffsetTimezone(offset=0, name=None)))\n",
      "(63, datetime.datetime(2021, 11, 29, 16, 16, 42, tzinfo=psycopg2.tz.FixedOffsetTimezone(offset=0, name=None)))\n",
      "(1, datetime.datetime(2021, 11, 29, 16, 16, 40, tzinfo=psycopg2.tz.FixedOffsetTimezone(offset=0, name=None)))\n",
      "(63, datetime.datetime(2021, 11, 29, 16, 16, 38, tzinfo=psycopg2.tz.FixedOffsetTimezone(offset=0, name=None)))\n",
      "(1, datetime.datetime(2021, 11, 29, 16, 16, 36, tzinfo=psycopg2.tz.FixedOffsetTimezone(offset=0, name=None)))\n",
      "(63, datetime.datetime(2021, 11, 29, 16, 16, 34, tzinfo=psycopg2.tz.FixedOffsetTimezone(offset=0, name=None)))\n",
      "(1, datetime.datetime(2021, 11, 29, 16, 16, 32, tzinfo=psycopg2.tz.FixedOffsetTimezone(offset=0, name=None)))\n",
      "(63, datetime.datetime(2021, 11, 29, 16, 16, 30, tzinfo=psycopg2.tz.FixedOffsetTimezone(offset=0, name=None)))\n",
      "(1, datetime.datetime(2021, 11, 29, 16, 16, 28, tzinfo=psycopg2.tz.FixedOffsetTimezone(offset=0, name=None)))\n",
      "(63, datetime.datetime(2021, 11, 29, 16, 16, 26, tzinfo=psycopg2.tz.FixedOffsetTimezone(offset=0, name=None)))\n",
      "(1, datetime.datetime(2021, 11, 29, 16, 16, 24, tzinfo=psycopg2.tz.FixedOffsetTimezone(offset=0, name=None)))\n",
      "(63, datetime.datetime(2021, 11, 29, 16, 16, 22, tzinfo=psycopg2.tz.FixedOffsetTimezone(offset=0, name=None)))\n",
      "(1, datetime.datetime(2021, 11, 29, 16, 16, 20, tzinfo=psycopg2.tz.FixedOffsetTimezone(offset=0, name=None)))\n",
      "(63, datetime.datetime(2021, 11, 29, 16, 16, 18, tzinfo=psycopg2.tz.FixedOffsetTimezone(offset=0, name=None)))\n",
      "(1, datetime.datetime(2021, 11, 29, 16, 16, 16, tzinfo=psycopg2.tz.FixedOffsetTimezone(offset=0, name=None)))\n",
      "(63, datetime.datetime(2021, 11, 29, 16, 16, 14, tzinfo=psycopg2.tz.FixedOffsetTimezone(offset=0, name=None)))\n",
      "(1, datetime.datetime(2021, 11, 29, 16, 16, 12, tzinfo=psycopg2.tz.FixedOffsetTimezone(offset=0, name=None)))\n",
      "(63, datetime.datetime(2021, 11, 29, 16, 16, 10, tzinfo=psycopg2.tz.FixedOffsetTimezone(offset=0, name=None)))\n",
      "(1, datetime.datetime(2021, 11, 29, 16, 16, 8, tzinfo=psycopg2.tz.FixedOffsetTimezone(offset=0, name=None)))\n"
     ]
    }
   ],
   "source": [
    "with engine1.connect() as con:\n",
    "    statement = con.execute(\"\"\"\n",
    "    SELECT stoppage_id, datetime\n",
    "    FROM dg_ln_stoppages_raw\n",
    "    GROUP BY stoppage_id, datetime\n",
    "    ORDER BY datetime DESC\n",
    "    LIMIT 50\n",
    "    \"\"\")\n",
    "    for row in statement:\n",
    "        print(row)"
   ],
   "metadata": {
    "collapsed": false,
    "pycharm": {
     "name": "#%%\n"
    }
   }
  },
  {
   "cell_type": "code",
   "execution_count": 56,
   "id": "1d2c37a1",
   "metadata": {},
   "outputs": [],
   "source": [
    "conn = engine.connect()\n",
    "results = conn.execute(stmt).all()"
   ]
  },
  {
   "cell_type": "code",
   "execution_count": 35,
   "id": "807d700d",
   "metadata": {},
   "outputs": [
    {
     "name": "stdout",
     "output_type": "stream",
     "text": [
      "301\n",
      "0\n",
      "2021-11-04 13:42:15+00:00\n"
     ]
    }
   ],
   "source": [
    "for result in results:\n",
    "    print(result)"
   ]
  },
  {
   "cell_type": "code",
   "execution_count": 32,
   "id": "313fa6d5",
   "metadata": {},
   "outputs": [],
   "source": []
  }
 ],
 "metadata": {
  "kernelspec": {
   "name": "pycharm-dfeb08af",
   "language": "python",
   "display_name": "PyCharm (Massmould)"
  },
  "language_info": {
   "codemirror_mode": {
    "name": "ipython",
    "version": 3
   },
   "file_extension": ".py",
   "mimetype": "text/x-python",
   "name": "python",
   "nbconvert_exporter": "python",
   "pygments_lexer": "ipython3",
   "version": "3.9.7"
  }
 },
 "nbformat": 4,
 "nbformat_minor": 5
}