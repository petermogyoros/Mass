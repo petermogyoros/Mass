{
 "cells": [
  {
   "cell_type": "code",
   "execution_count": 51,
   "id": "2416156c",
   "metadata": {},
   "outputs": [],
   "source": [
    "from login_details import engine1"
   ]
  },
  {
   "cell_type": "code",
   "execution_count": 52,
   "outputs": [],
   "source": [
    "with engine1.connect() as con:\n",
    "    select_statement = con.execute(\"\"\"\n",
    "    SELECT id, stoppage_id, datetime\n",
    "    FROM dg_ln_stoppages_raw_1\n",
    "    ORDER BY datetime ASC\n",
    "    LIMIT 1000\n",
    "    \"\"\")\n",
    "\n"
   ],
   "metadata": {
    "collapsed": false,
    "pycharm": {
     "name": "#%%\n"
    }
   }
  },
  {
   "cell_type": "code",
   "execution_count": 53,
   "outputs": [
    {
     "ename": "KeyboardInterrupt",
     "evalue": "",
     "output_type": "error",
     "traceback": [
      "\u001B[1;31m---------------------------------------------------------------------------\u001B[0m",
      "\u001B[1;31mKeyboardInterrupt\u001B[0m                         Traceback (most recent call last)",
      "\u001B[1;32mC:\\Users\\MOGYOR~1\\AppData\\Local\\Temp/ipykernel_17728/1915973454.py\u001B[0m in \u001B[0;36m<module>\u001B[1;34m\u001B[0m\n\u001B[0;32m     11\u001B[0m     \u001B[1;32melif\u001B[0m \u001B[0mrow\u001B[0m\u001B[1;33m[\u001B[0m\u001B[1;36m1\u001B[0m\u001B[1;33m]\u001B[0m \u001B[1;33m==\u001B[0m \u001B[0mprevious_row\u001B[0m\u001B[1;33m:\u001B[0m\u001B[1;33m\u001B[0m\u001B[1;33m\u001B[0m\u001B[0m\n\u001B[0;32m     12\u001B[0m         \u001B[1;32mwith\u001B[0m \u001B[0mengine1\u001B[0m\u001B[1;33m.\u001B[0m\u001B[0mconnect\u001B[0m\u001B[1;33m(\u001B[0m\u001B[1;33m)\u001B[0m \u001B[1;32mas\u001B[0m \u001B[0mcon\u001B[0m\u001B[1;33m:\u001B[0m\u001B[1;33m\u001B[0m\u001B[1;33m\u001B[0m\u001B[0m\n\u001B[1;32m---> 13\u001B[1;33m             delete_statement = con.execute(\"\"\"\n\u001B[0m\u001B[0;32m     14\u001B[0m             \u001B[0mDELETE\u001B[0m \u001B[0mFROM\u001B[0m \u001B[0mdg_ln_stoppages_raw_1\u001B[0m\u001B[1;33m\u001B[0m\u001B[1;33m\u001B[0m\u001B[0m\n\u001B[0;32m     15\u001B[0m             \u001B[0mWHERE\u001B[0m \u001B[0mid\u001B[0m \u001B[1;33m=\u001B[0m \u001B[1;33m(\u001B[0m\u001B[1;33m%\u001B[0m\u001B[0ms\u001B[0m\u001B[1;33m)\u001B[0m\u001B[1;33m;\u001B[0m\u001B[1;33m\u001B[0m\u001B[1;33m\u001B[0m\u001B[0m\n",
      "\u001B[1;32m~\\Anacond\\envs\\Massmould\\lib\\site-packages\\sqlalchemy\\engine\\base.py\u001B[0m in \u001B[0;36mexecute\u001B[1;34m(self, statement, *multiparams, **params)\u001B[0m\n\u001B[0;32m   1246\u001B[0m             )\n\u001B[0;32m   1247\u001B[0m \u001B[1;33m\u001B[0m\u001B[0m\n\u001B[1;32m-> 1248\u001B[1;33m             return self._exec_driver_sql(\n\u001B[0m\u001B[0;32m   1249\u001B[0m                 \u001B[0mstatement\u001B[0m\u001B[1;33m,\u001B[0m\u001B[1;33m\u001B[0m\u001B[1;33m\u001B[0m\u001B[0m\n\u001B[0;32m   1250\u001B[0m                 \u001B[0mmultiparams\u001B[0m\u001B[1;33m,\u001B[0m\u001B[1;33m\u001B[0m\u001B[1;33m\u001B[0m\u001B[0m\n",
      "\u001B[1;32m~\\Anacond\\envs\\Massmould\\lib\\site-packages\\sqlalchemy\\engine\\base.py\u001B[0m in \u001B[0;36m_exec_driver_sql\u001B[1;34m(self, statement, multiparams, params, execution_options, future)\u001B[0m\n\u001B[0;32m   1545\u001B[0m \u001B[1;33m\u001B[0m\u001B[0m\n\u001B[0;32m   1546\u001B[0m         \u001B[0mdialect\u001B[0m \u001B[1;33m=\u001B[0m \u001B[0mself\u001B[0m\u001B[1;33m.\u001B[0m\u001B[0mdialect\u001B[0m\u001B[1;33m\u001B[0m\u001B[1;33m\u001B[0m\u001B[0m\n\u001B[1;32m-> 1547\u001B[1;33m         ret = self._execute_context(\n\u001B[0m\u001B[0;32m   1548\u001B[0m             \u001B[0mdialect\u001B[0m\u001B[1;33m,\u001B[0m\u001B[1;33m\u001B[0m\u001B[1;33m\u001B[0m\u001B[0m\n\u001B[0;32m   1549\u001B[0m             \u001B[0mdialect\u001B[0m\u001B[1;33m.\u001B[0m\u001B[0mexecution_ctx_cls\u001B[0m\u001B[1;33m.\u001B[0m\u001B[0m_init_statement\u001B[0m\u001B[1;33m,\u001B[0m\u001B[1;33m\u001B[0m\u001B[1;33m\u001B[0m\u001B[0m\n",
      "\u001B[1;32m~\\Anacond\\envs\\Massmould\\lib\\site-packages\\sqlalchemy\\engine\\base.py\u001B[0m in \u001B[0;36m_execute_context\u001B[1;34m(self, dialect, constructor, statement, parameters, execution_options, *args, **kw)\u001B[0m\n\u001B[0;32m   1812\u001B[0m \u001B[1;33m\u001B[0m\u001B[0m\n\u001B[0;32m   1813\u001B[0m         \u001B[1;32mexcept\u001B[0m \u001B[0mBaseException\u001B[0m \u001B[1;32mas\u001B[0m \u001B[0me\u001B[0m\u001B[1;33m:\u001B[0m\u001B[1;33m\u001B[0m\u001B[1;33m\u001B[0m\u001B[0m\n\u001B[1;32m-> 1814\u001B[1;33m             self._handle_dbapi_exception(\n\u001B[0m\u001B[0;32m   1815\u001B[0m                 \u001B[0me\u001B[0m\u001B[1;33m,\u001B[0m \u001B[0mstatement\u001B[0m\u001B[1;33m,\u001B[0m \u001B[0mparameters\u001B[0m\u001B[1;33m,\u001B[0m \u001B[0mcursor\u001B[0m\u001B[1;33m,\u001B[0m \u001B[0mcontext\u001B[0m\u001B[1;33m\u001B[0m\u001B[1;33m\u001B[0m\u001B[0m\n\u001B[0;32m   1816\u001B[0m             )\n",
      "\u001B[1;32m~\\Anacond\\envs\\Massmould\\lib\\site-packages\\sqlalchemy\\engine\\base.py\u001B[0m in \u001B[0;36m_handle_dbapi_exception\u001B[1;34m(self, e, statement, parameters, cursor, context)\u001B[0m\n\u001B[0;32m   1997\u001B[0m                 )\n\u001B[0;32m   1998\u001B[0m             \u001B[1;32melse\u001B[0m\u001B[1;33m:\u001B[0m\u001B[1;33m\u001B[0m\u001B[1;33m\u001B[0m\u001B[0m\n\u001B[1;32m-> 1999\u001B[1;33m                 \u001B[0mutil\u001B[0m\u001B[1;33m.\u001B[0m\u001B[0mraise_\u001B[0m\u001B[1;33m(\u001B[0m\u001B[0mexc_info\u001B[0m\u001B[1;33m[\u001B[0m\u001B[1;36m1\u001B[0m\u001B[1;33m]\u001B[0m\u001B[1;33m,\u001B[0m \u001B[0mwith_traceback\u001B[0m\u001B[1;33m=\u001B[0m\u001B[0mexc_info\u001B[0m\u001B[1;33m[\u001B[0m\u001B[1;36m2\u001B[0m\u001B[1;33m]\u001B[0m\u001B[1;33m)\u001B[0m\u001B[1;33m\u001B[0m\u001B[1;33m\u001B[0m\u001B[0m\n\u001B[0m\u001B[0;32m   2000\u001B[0m \u001B[1;33m\u001B[0m\u001B[0m\n\u001B[0;32m   2001\u001B[0m         \u001B[1;32mfinally\u001B[0m\u001B[1;33m:\u001B[0m\u001B[1;33m\u001B[0m\u001B[1;33m\u001B[0m\u001B[0m\n",
      "\u001B[1;32m~\\Anacond\\envs\\Massmould\\lib\\site-packages\\sqlalchemy\\util\\compat.py\u001B[0m in \u001B[0;36mraise_\u001B[1;34m(***failed resolving arguments***)\u001B[0m\n\u001B[0;32m    205\u001B[0m \u001B[1;33m\u001B[0m\u001B[0m\n\u001B[0;32m    206\u001B[0m         \u001B[1;32mtry\u001B[0m\u001B[1;33m:\u001B[0m\u001B[1;33m\u001B[0m\u001B[1;33m\u001B[0m\u001B[0m\n\u001B[1;32m--> 207\u001B[1;33m             \u001B[1;32mraise\u001B[0m \u001B[0mexception\u001B[0m\u001B[1;33m\u001B[0m\u001B[1;33m\u001B[0m\u001B[0m\n\u001B[0m\u001B[0;32m    208\u001B[0m         \u001B[1;32mfinally\u001B[0m\u001B[1;33m:\u001B[0m\u001B[1;33m\u001B[0m\u001B[1;33m\u001B[0m\u001B[0m\n\u001B[0;32m    209\u001B[0m             \u001B[1;31m# credit to\u001B[0m\u001B[1;33m\u001B[0m\u001B[1;33m\u001B[0m\u001B[0m\n",
      "\u001B[1;32m~\\Anacond\\envs\\Massmould\\lib\\site-packages\\sqlalchemy\\engine\\base.py\u001B[0m in \u001B[0;36m_execute_context\u001B[1;34m(self, dialect, constructor, statement, parameters, execution_options, *args, **kw)\u001B[0m\n\u001B[0;32m   1769\u001B[0m                             \u001B[1;32mbreak\u001B[0m\u001B[1;33m\u001B[0m\u001B[1;33m\u001B[0m\u001B[0m\n\u001B[0;32m   1770\u001B[0m                 \u001B[1;32mif\u001B[0m \u001B[1;32mnot\u001B[0m \u001B[0mevt_handled\u001B[0m\u001B[1;33m:\u001B[0m\u001B[1;33m\u001B[0m\u001B[1;33m\u001B[0m\u001B[0m\n\u001B[1;32m-> 1771\u001B[1;33m                     self.dialect.do_execute(\n\u001B[0m\u001B[0;32m   1772\u001B[0m                         \u001B[0mcursor\u001B[0m\u001B[1;33m,\u001B[0m \u001B[0mstatement\u001B[0m\u001B[1;33m,\u001B[0m \u001B[0mparameters\u001B[0m\u001B[1;33m,\u001B[0m \u001B[0mcontext\u001B[0m\u001B[1;33m\u001B[0m\u001B[1;33m\u001B[0m\u001B[0m\n\u001B[0;32m   1773\u001B[0m                     )\n",
      "\u001B[1;32m~\\Anacond\\envs\\Massmould\\lib\\site-packages\\sqlalchemy\\engine\\default.py\u001B[0m in \u001B[0;36mdo_execute\u001B[1;34m(self, cursor, statement, parameters, context)\u001B[0m\n\u001B[0;32m    715\u001B[0m \u001B[1;33m\u001B[0m\u001B[0m\n\u001B[0;32m    716\u001B[0m     \u001B[1;32mdef\u001B[0m \u001B[0mdo_execute\u001B[0m\u001B[1;33m(\u001B[0m\u001B[0mself\u001B[0m\u001B[1;33m,\u001B[0m \u001B[0mcursor\u001B[0m\u001B[1;33m,\u001B[0m \u001B[0mstatement\u001B[0m\u001B[1;33m,\u001B[0m \u001B[0mparameters\u001B[0m\u001B[1;33m,\u001B[0m \u001B[0mcontext\u001B[0m\u001B[1;33m=\u001B[0m\u001B[1;32mNone\u001B[0m\u001B[1;33m)\u001B[0m\u001B[1;33m:\u001B[0m\u001B[1;33m\u001B[0m\u001B[1;33m\u001B[0m\u001B[0m\n\u001B[1;32m--> 717\u001B[1;33m         \u001B[0mcursor\u001B[0m\u001B[1;33m.\u001B[0m\u001B[0mexecute\u001B[0m\u001B[1;33m(\u001B[0m\u001B[0mstatement\u001B[0m\u001B[1;33m,\u001B[0m \u001B[0mparameters\u001B[0m\u001B[1;33m)\u001B[0m\u001B[1;33m\u001B[0m\u001B[1;33m\u001B[0m\u001B[0m\n\u001B[0m\u001B[0;32m    718\u001B[0m \u001B[1;33m\u001B[0m\u001B[0m\n\u001B[0;32m    719\u001B[0m     \u001B[1;32mdef\u001B[0m \u001B[0mdo_execute_no_params\u001B[0m\u001B[1;33m(\u001B[0m\u001B[0mself\u001B[0m\u001B[1;33m,\u001B[0m \u001B[0mcursor\u001B[0m\u001B[1;33m,\u001B[0m \u001B[0mstatement\u001B[0m\u001B[1;33m,\u001B[0m \u001B[0mcontext\u001B[0m\u001B[1;33m=\u001B[0m\u001B[1;32mNone\u001B[0m\u001B[1;33m)\u001B[0m\u001B[1;33m:\u001B[0m\u001B[1;33m\u001B[0m\u001B[1;33m\u001B[0m\u001B[0m\n",
      "\u001B[1;32m~\\Anacond\\envs\\Massmould\\lib\\encodings\\utf_8.py\u001B[0m in \u001B[0;36mdecode\u001B[1;34m(input, errors)\u001B[0m\n\u001B[0;32m     13\u001B[0m \u001B[0mencode\u001B[0m \u001B[1;33m=\u001B[0m \u001B[0mcodecs\u001B[0m\u001B[1;33m.\u001B[0m\u001B[0mutf_8_encode\u001B[0m\u001B[1;33m\u001B[0m\u001B[1;33m\u001B[0m\u001B[0m\n\u001B[0;32m     14\u001B[0m \u001B[1;33m\u001B[0m\u001B[0m\n\u001B[1;32m---> 15\u001B[1;33m \u001B[1;32mdef\u001B[0m \u001B[0mdecode\u001B[0m\u001B[1;33m(\u001B[0m\u001B[0minput\u001B[0m\u001B[1;33m,\u001B[0m \u001B[0merrors\u001B[0m\u001B[1;33m=\u001B[0m\u001B[1;34m'strict'\u001B[0m\u001B[1;33m)\u001B[0m\u001B[1;33m:\u001B[0m\u001B[1;33m\u001B[0m\u001B[1;33m\u001B[0m\u001B[0m\n\u001B[0m\u001B[0;32m     16\u001B[0m     \u001B[1;32mreturn\u001B[0m \u001B[0mcodecs\u001B[0m\u001B[1;33m.\u001B[0m\u001B[0mutf_8_decode\u001B[0m\u001B[1;33m(\u001B[0m\u001B[0minput\u001B[0m\u001B[1;33m,\u001B[0m \u001B[0merrors\u001B[0m\u001B[1;33m,\u001B[0m \u001B[1;32mTrue\u001B[0m\u001B[1;33m)\u001B[0m\u001B[1;33m\u001B[0m\u001B[1;33m\u001B[0m\u001B[0m\n\u001B[0;32m     17\u001B[0m \u001B[1;33m\u001B[0m\u001B[0m\n",
      "\u001B[1;31mKeyboardInterrupt\u001B[0m: "
     ]
    }
   ],
   "source": [
    "# setting value for the first iteration of the variable previous_row\n",
    "previous_row = -1\n",
    "\n",
    "# iterate through the database rows\n",
    "for row in select_statement:\n",
    "\n",
    "    # previous_row needs a value for first iteration. After this, the value -1 will be overwritten by the actual row value\n",
    "    if previous_row == -1:\n",
    "        previous_row = row[1]\n",
    "\n",
    "    elif row[1] == previous_row:\n",
    "        with engine1.connect() as con:\n",
    "            delete_statement = con.execute(\"\"\"\n",
    "            DELETE FROM dg_ln_stoppages_raw_1\n",
    "            WHERE id = (%s);\n",
    "            \"\"\", (row[0]))"
   ],
   "metadata": {
    "collapsed": false,
    "pycharm": {
     "name": "#%%\n"
    }
   }
  },
  {
   "cell_type": "code",
   "execution_count": null,
   "outputs": [],
   "source": [],
   "metadata": {
    "collapsed": false,
    "pycharm": {
     "name": "#%%\n"
    }
   }
  }
 ],
 "metadata": {
  "kernelspec": {
   "name": "pycharm-dfeb08af",
   "language": "python",
   "display_name": "PyCharm (Massmould)"
  },
  "language_info": {
   "codemirror_mode": {
    "name": "ipython",
    "version": 3
   },
   "file_extension": ".py",
   "mimetype": "text/x-python",
   "name": "python",
   "nbconvert_exporter": "python",
   "pygments_lexer": "ipython3",
   "version": "3.9.7"
  }
 },
 "nbformat": 4,
 "nbformat_minor": 5
}