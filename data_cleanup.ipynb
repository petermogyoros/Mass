{
 "cells": [
  {
   "cell_type": "code",
   "execution_count": 57,
   "id": "2416156c",
   "metadata": {},
   "outputs": [],
   "source": [
    "from login_details import engine1"
   ]
  },
  {
   "cell_type": "code",
   "execution_count": 58,
   "outputs": [],
   "source": [
    "with engine1.connect() as con:\n",
    "    select_statement = con.execute(\"\"\"\n",
    "    SELECT id, stoppage_id, datetime\n",
    "    FROM dg_ln_stoppages_raw_1\n",
    "    ORDER BY datetime ASC\n",
    "    LIMIT 300\n",
    "    \"\"\")\n",
    "\n"
   ],
   "metadata": {
    "collapsed": false,
    "pycharm": {
     "name": "#%%\n"
    }
   }
  },
  {
   "cell_type": "code",
   "execution_count": 59,
   "outputs": [],
   "source": [
    "# setting value for the first iteration of the variable previous_row\n",
    "previous_row = -1\n",
    "list_of_faults = []\n",
    "\n",
    "# iterate through the database rows\n",
    "for row in select_statement:\n",
    "\n",
    "    # previous_row needs a value for first iteration. After this, the value -1 will be overwritten by the actual row value\n",
    "    if previous_row == -1:\n",
    "        previous_row = row[1]\n",
    "\n",
    "    elif row[1] == previous_row:\n",
    "        with engine1.connect() as con:\n",
    "            delete_statement = con.execute(\"\"\"\n",
    "            DELETE FROM dg_ln_stoppages_raw_1\n",
    "            WHERE id = (%s);\n",
    "            \"\"\", (row[0]))\n",
    "\n",
    "    elif row[1] != previous_row:\n",
    "        previous_row = row[1]"
   ],
   "metadata": {
    "collapsed": false,
    "pycharm": {
     "name": "#%%\n"
    }
   }
  },
  {
   "cell_type": "code",
   "execution_count": 59,
   "outputs": [],
   "source": [],
   "metadata": {
    "collapsed": false,
    "pycharm": {
     "name": "#%%\n"
    }
   }
  }
 ],
 "metadata": {
  "kernelspec": {
   "name": "pycharm-dfeb08af",
   "language": "python",
   "display_name": "PyCharm (Massmould)"
  },
  "language_info": {
   "codemirror_mode": {
    "name": "ipython",
    "version": 3
   },
   "file_extension": ".py",
   "mimetype": "text/x-python",
   "name": "python",
   "nbconvert_exporter": "python",
   "pygments_lexer": "ipython3",
   "version": "3.9.7"
  }
 },
 "nbformat": 4,
 "nbformat_minor": 5
}