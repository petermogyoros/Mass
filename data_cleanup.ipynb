{
 "cells": [
  {
   "cell_type": "code",
   "execution_count": 282,
   "id": "2416156c",
   "metadata": {},
   "outputs": [],
   "source": [
    "#!/usr/bin/python3\n",
    "\n",
    "from login_details import engine1"
   ]
  },
  {
   "cell_type": "code",
   "execution_count": null,
   "outputs": [],
   "source": [
    "def delete_rows_from_db(list_of_faults_delete):\n",
    "    # Convert delete list to tuples. This allows to pass delete list into the SQL script\n",
    "    list_of_faults_delete = tuple(list_of_faults_delete)\n",
    "\n",
    "    params = {'l': list_of_faults_delete}\n",
    "    with engine1.connect() as con:\n",
    "        print(\"Keep List:\")\n",
    "        print(', '.join(map(str, list_of_faults_keep)))\n",
    "\n",
    "        con.execute(\"\"\"\n",
    "            DELETE FROM dg_ln_stoppages_raw_1\n",
    "            WHERE id in %(l)s;\n",
    "            \"\"\", params)\n",
    "        con.close()\n",
    "        print(len(list_of_faults_delete))\n",
    "        print('DB Updated!\\n')"
   ],
   "metadata": {
    "collapsed": false,
    "pycharm": {
     "name": "#%%\n"
    }
   }
  },
  {
   "cell_type": "code",
   "execution_count": 278,
   "id": "c2cd7b8e",
   "metadata": {
    "pycharm": {
     "name": "#%%\n"
    }
   },
   "outputs": [],
   "source": [
    "# get data from db\n",
    "with engine1.connect() as con:\n",
    "    query = con.execute(\"\"\"\n",
    "    SELECT id, stoppage_id, datetime\n",
    "    FROM dg_ln_stoppages_raw_1\n",
    "    ORDER BY datetime ASC\n",
    "    \"\"\")\n",
    "    con.close()"
   ]
  },
  {
   "cell_type": "code",
   "execution_count": 279,
   "outputs": [],
   "source": [
    "# setting value for the first iteration of the variable previous_row\n",
    "previous_row = -1  # -1 only indicates that the variable hasn't been set - first iteration\n",
    "list_of_faults_keep = []\n",
    "list_of_faults_delete = []"
   ],
   "metadata": {
    "collapsed": false,
    "pycharm": {
     "name": "#%%\n"
    }
   }
  },
  {
   "cell_type": "code",
   "execution_count": 280,
   "id": "a3a3310d",
   "metadata": {
    "pycharm": {
     "name": "#%%\n"
    }
   },
   "outputs": [
    {
     "name": "stdout",
     "output_type": "stream",
     "text": [
      "Done\n",
      "Done\n",
      "Done\n",
      "Done\n",
      "Done\n",
      "Done\n",
      "Done\n",
      "Done\n",
      "Done\n",
      "Done\n",
      "Done\n",
      "Done\n",
      "Done\n",
      "Done\n",
      "Done\n",
      "Done\n",
      "Done\n",
      "Done\n",
      "Done\n",
      "Done\n",
      "Done\n",
      "Done\n",
      "Done\n",
      "Done\n",
      "Done\n",
      "Done\n",
      "Done\n",
      "Done\n",
      "Done\n",
      "Done\n",
      "Done\n",
      "Done\n",
      "Done\n",
      "Done\n",
      "Done\n",
      "Done\n",
      "Done\n",
      "Done\n",
      "Done\n",
      "Done\n",
      "Done\n",
      "Done\n",
      "Done\n",
      "Done\n",
      "Done\n",
      "Done\n",
      "Done\n",
      "Done\n",
      "Done\n",
      "Done\n",
      "Done\n",
      "Done\n",
      "Done\n",
      "Done\n",
      "Done\n",
      "Done\n",
      "Done\n",
      "Done\n",
      "Done\n",
      "Done\n",
      "Done\n",
      "Done\n",
      "Done\n",
      "Done\n",
      "Done\n",
      "Done\n",
      "Done\n",
      "Done\n",
      "Done\n",
      "Done\n",
      "Done\n",
      "Done\n",
      "Done\n",
      "Done\n",
      "Done\n",
      "Done\n",
      "Done\n",
      "Done\n",
      "Done\n",
      "Done\n",
      "Done\n",
      "Done\n",
      "Done\n",
      "Done\n",
      "Done\n",
      "Done\n",
      "Done\n",
      "Done\n",
      "Done\n",
      "Done\n",
      "Done\n",
      "Done\n",
      "Done\n",
      "Done\n",
      "Done\n",
      "Done\n",
      "Done\n",
      "Done\n",
      "Done\n",
      "Done\n"
     ]
    }
   ],
   "source": [
    "# iterate through the database rows\n",
    "for row in query:\n",
    "    # previous_row needs a value for first iteration. After this, the value -1 will be overwritten by the actual row\n",
    "    # value\n",
    "    if previous_row == -1:  # first iteration\n",
    "        previous_row = row[1]  # save the FAULT ID value\n",
    "        list_of_faults_keep.append(row[1])\n",
    "\n",
    "    elif row[1] == previous_row:  # repeating value - needs to be deleted\n",
    "        list_of_faults_delete.append(row[0])  # save the row ID into delete list\n",
    "\n",
    "        if len(list_of_faults_delete) > 5000:  # avoiding too big delete list as it might crash the run\n",
    "            delete_rows_from_db(list_of_faults_delete)\n",
    "            list_of_faults_delete = []\n",
    "\n",
    "        previous_row = row[1]  # save the FAULT ID value\n",
    "\n",
    "    elif row[1] != previous_row:  # the value is different from the previous row (change of state)\n",
    "        if row[1] in list_of_faults_keep:\n",
    "            if row[1] == 0:\n",
    "                if len(list_of_faults_keep) > 1:\n",
    "                    if list_of_faults_delete:  # Check if delete list has any values in it. If yes, initiate delete\n",
    "                        # order. This check is to get past already sorted rows\n",
    "\n",
    "                        # execute SQL sequence to delete rows from delete list\n",
    "                        delete_rows_from_db(list_of_faults_delete)\n",
    "\n",
    "                        list_of_faults_delete = []  # empty delete list\n",
    "                        list_of_faults_keep = [row[1]]  # add last 0 to the list, so it won't keep the next one.\n",
    "                        previous_row = row[1]  # save the FAULT ID value\n",
    "\n",
    "                        continue  # return to beginning of the loop\n",
    "\n",
    "                    else:  # if delete list is empty, reset the keep list. This is to get past already sorted rows\n",
    "                        list_of_faults_keep = [row[1]]\n",
    "                        continue\n",
    "\n",
    "            if len(list_of_faults_delete) > 5000:  # avoiding too big delete list as it might crash the run\n",
    "                delete_rows_from_db(list_of_faults_delete)\n",
    "                list_of_faults_delete = []\n",
    "\n",
    "            list_of_faults_delete.append(row[0])\n",
    "            previous_row = row[1]  # save the FAULT ID value\n",
    "\n",
    "        elif row[1] not in list_of_faults_keep:\n",
    "            list_of_faults_keep.append(row[1])\n",
    "            previous_row = row[1]  # save the FAULT ID value\n",
    "\n",
    "if list_of_faults_delete:  # check if list has values. It would fail without any values in it.\n",
    "    delete_rows_from_db(list_of_faults_delete)\n",
    "\n",
    "engine1.dispose()  # properly close database connection to prevent memory leaks."
   ]
  },
  {
   "cell_type": "code",
   "execution_count": 281,
   "outputs": [],
   "source": [
    "#print(\"Keep List:\\n\")\n",
    "#print('\\n'.join(map(str, list_of_faults_delete)))"
   ],
   "metadata": {
    "collapsed": false,
    "pycharm": {
     "name": "#%%\n"
    }
   }
  },
  {
   "cell_type": "code",
   "execution_count": 281,
   "outputs": [],
   "source": [],
   "metadata": {
    "collapsed": false,
    "pycharm": {
     "name": "#%%\n"
    }
   }
  }
 ],
 "metadata": {
  "kernelspec": {
   "display_name": "Python 3",
   "language": "python",
   "name": "python3"
  },
  "language_info": {
   "codemirror_mode": {
    "name": "ipython",
    "version": 3
   },
   "file_extension": ".py",
   "mimetype": "text/x-python",
   "name": "python",
   "nbconvert_exporter": "python",
   "pygments_lexer": "ipython3",
   "version": "3.9.7"
  }
 },
 "nbformat": 4,
 "nbformat_minor": 5
}