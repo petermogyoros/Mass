{
 "cells": [
  {
   "cell_type": "code",
   "execution_count": 107,
   "id": "2416156c",
   "metadata": {},
   "outputs": [],
   "source": [
    "from login_details import engine1"
   ]
  },
  {
   "cell_type": "code",
   "execution_count": 129,
   "id": "c2cd7b8e",
   "metadata": {
    "pycharm": {
     "name": "#%%\n"
    }
   },
   "outputs": [],
   "source": [
    "with engine1.connect() as con:\n",
    "    query = con.execute(\"\"\"\n",
    "    SELECT id, stoppage_id, datetime\n",
    "    FROM dg_ln_stoppages_raw_1\n",
    "    ORDER BY datetime ASC\n",
    "    LIMIT 10000\n",
    "    \"\"\")\n",
    "\n"
   ]
  },
  {
   "cell_type": "code",
   "execution_count": 130,
   "id": "a3a3310d",
   "metadata": {
    "pycharm": {
     "name": "#%%\n"
    }
   },
   "outputs": [],
   "source": [
    "# setting value for the first iteration of the variable previous_row\n",
    "previous_row = -1   # -1 only indicates that the variable hasn't been set - first iteration\n",
    "list_of_faults_keep = []\n",
    "list_of_faults_delete = []\n",
    "keep = []\n",
    "\n",
    "# iterate through the database rows\n",
    "for row in query:\n",
    "    # previous_row needs a value for first iteration. After this, the value -1 will be overwritten by the actual row value\n",
    "    if previous_row == -1:  # first iteration\n",
    "        previous_row = row[1]  # save the FAULT ID value\n",
    "        list_of_faults_keep.append(row[1])\n",
    "\n",
    "        # for testing\n",
    "        fresh_list = [row]\n",
    "        keep.append(fresh_list)  # save the row ID into the keep list\n",
    "        fresh_list = []\n",
    "\n",
    "    elif row[1] == previous_row:  # repeating value - needs to be deleted\n",
    "        list_of_faults_delete.append(row[0])  # save the row ID into the delete list\n",
    "        previous_row = row[1]  # save the FAULT ID value\n",
    "\n",
    "    elif row[1] != previous_row:  # the value is different from the previous row (change of state)\n",
    "        if row[1] in list_of_faults_keep:\n",
    "            if row[1] == 0 and len(list_of_faults_keep) > 1:\n",
    "                if list_of_faults_delete:  # if the delete list is empty, reset the keep list. This is to get past already sorted rows\n",
    "                    break\n",
    "\n",
    "                else:\n",
    "                    list_of_faults_keep = []\n",
    "\n",
    "\n",
    "            list_of_faults_delete.append(row[0])\n",
    "            previous_row = row[1]  # save the FAULT ID value\n",
    "\n",
    "        elif row[1] not in list_of_faults_keep:\n",
    "            list_of_faults_keep.append(row[1])\n",
    "            # for testing\n",
    "            fresh_list = [row]\n",
    "            keep.append(fresh_list)  # save the row ID into the keep list\n",
    "            fresh_list = []\n",
    "            previous_row = row[1]  # save the FAULT ID value"
   ]
  },
  {
   "cell_type": "code",
   "execution_count": 133,
   "outputs": [
    {
     "name": "stdout",
     "output_type": "stream",
     "text": [
      "Keep List:\n",
      "\n",
      "0\n",
      "64\n",
      "49\n",
      "1\n",
      "59\n",
      "44\n",
      "69\n",
      "42\n"
     ]
    }
   ],
   "source": [
    "print(\"Keep List:\\n\")\n",
    "print('\\n'.join(map(str, list_of_faults_keep)))"
   ],
   "metadata": {
    "collapsed": false,
    "pycharm": {
     "name": "#%%\n"
    }
   }
  },
  {
   "cell_type": "code",
   "execution_count": 132,
   "outputs": [
    {
     "name": "stdout",
     "output_type": "stream",
     "text": [
      "{'l': ()}\n"
     ]
    }
   ],
   "source": [
    "list_of_faults_delete = tuple(list_of_faults_delete)\n",
    "\n",
    "params = {'l': list_of_faults_delete}\n",
    "\n",
    "print(params)\n"
   ],
   "metadata": {
    "collapsed": false,
    "pycharm": {
     "name": "#%%\n"
    }
   }
  },
  {
   "cell_type": "code",
   "execution_count": 128,
   "outputs": [
    {
     "name": "stdout",
     "output_type": "stream",
     "text": [
      "Done\n"
     ]
    }
   ],
   "source": [
    "with engine1.connect() as con:\n",
    "            delete_statement = con.execute(\"\"\"\n",
    "            DELETE FROM dg_ln_stoppages_raw_1\n",
    "            WHERE id in %(l)s;\n",
    "            \"\"\", params)\n",
    "            print('Done')"
   ],
   "metadata": {
    "collapsed": false,
    "pycharm": {
     "name": "#%%\n"
    }
   }
  },
  {
   "cell_type": "code",
   "execution_count": 123,
   "outputs": [],
   "source": [
    "list_of_faults_delete = []"
   ],
   "metadata": {
    "collapsed": false,
    "pycharm": {
     "name": "#%%\n"
    }
   }
  },
  {
   "cell_type": "code",
   "execution_count": null,
   "outputs": [],
   "source": [],
   "metadata": {
    "collapsed": false,
    "pycharm": {
     "name": "#%%\n"
    }
   }
  }
 ],
 "metadata": {
  "kernelspec": {
   "display_name": "Python 3",
   "language": "python",
   "name": "python3"
  },
  "language_info": {
   "codemirror_mode": {
    "name": "ipython",
    "version": 3
   },
   "file_extension": ".py",
   "mimetype": "text/x-python",
   "name": "python",
   "nbconvert_exporter": "python",
   "pygments_lexer": "ipython3",
   "version": "3.9.7"
  }
 },
 "nbformat": 4,
 "nbformat_minor": 5
}